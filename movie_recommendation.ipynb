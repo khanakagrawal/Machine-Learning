{
  "cells": [
    {
      "cell_type": "markdown",
      "source": [
        "# Homework 4: Matrix Completion and Recommendation System\n",
        "🎥 🎞 🎬\n"
      ],
      "metadata": {
        "id": "ofxrSTrclA0u"
      }
    },
    {
      "cell_type": "markdown",
      "source": [
        "## Information before starting"
      ],
      "metadata": {
        "id": "lUY6kYAGbGLV"
      }
    },
    {
      "cell_type": "markdown",
      "source": [
        "In this problem, we will be building a personalized movie recommendation system! To make these recommendations, we'll build on what we've learned in lecture about SVD and what we've practiced so far with Python and Python packages such as NumPy and PyTorch."
      ],
      "metadata": {
        "id": "Rkaej3GobH_i"
      }
    },
    {
      "cell_type": "markdown",
      "source": [
        "### Copying this Colab Notebook to your Google Drive"
      ],
      "metadata": {
        "id": "apBGZ6AZdws6"
      }
    },
    {
      "cell_type": "markdown",
      "source": [
        "Since the course staff is the author of this notebook, you cannot make any lasting changes to it. You should make a copy of it to your Google Drive by clicking **File -> Save a Copy in Drive**."
      ],
      "metadata": {
        "id": "guPzWFRsd4pl"
      }
    },
    {
      "cell_type": "markdown",
      "source": [
        "### Problem Introduction"
      ],
      "metadata": {
        "id": "HMbOS3Qvd6em"
      }
    },
    {
      "cell_type": "markdown",
      "source": [
        "We will use the 100K MovieLens dataset available at https://grouplens.org/datasets/movielens/100k/ to estimate unknown user ratings given their previous ratings. Run the code block below to download the dataset."
      ],
      "metadata": {
        "id": "Ev6yG36Od9iI"
      }
    },
    {
      "cell_type": "code",
      "source": [
        "# @title loading dataset\n",
        "!rm -rf ml-100k*\n",
        "!wget https://files.grouplens.org/datasets/movielens/ml-100k.zip\n",
        "!unzip ml-100k.zip\n",
        "!mv ml-100k/u.data ."
      ],
      "metadata": {
        "id": "IDLI0OQcuBvK",
        "colab": {
          "base_uri": "https://localhost:8080/"
        },
        "outputId": "ee4a96bd-0321-46ff-99aa-db655710934d"
      },
      "execution_count": null,
      "outputs": [
        {
          "output_type": "stream",
          "name": "stdout",
          "text": [
            "--2025-03-13 06:51:41--  https://files.grouplens.org/datasets/movielens/ml-100k.zip\n",
            "Resolving files.grouplens.org (files.grouplens.org)... 128.101.65.152\n",
            "Connecting to files.grouplens.org (files.grouplens.org)|128.101.65.152|:443... connected.\n",
            "HTTP request sent, awaiting response... 200 OK\n",
            "Length: 4924029 (4.7M) [application/zip]\n",
            "Saving to: ‘ml-100k.zip’\n",
            "\n",
            "ml-100k.zip         100%[===================>]   4.70M  14.3MB/s    in 0.3s    \n",
            "\n",
            "2025-03-13 06:51:41 (14.3 MB/s) - ‘ml-100k.zip’ saved [4924029/4924029]\n",
            "\n",
            "Archive:  ml-100k.zip\n",
            "   creating: ml-100k/\n",
            "  inflating: ml-100k/allbut.pl       \n",
            "  inflating: ml-100k/mku.sh          \n",
            "  inflating: ml-100k/README          \n",
            "  inflating: ml-100k/u.data          \n",
            "  inflating: ml-100k/u.genre         \n",
            "  inflating: ml-100k/u.info          \n",
            "  inflating: ml-100k/u.item          \n",
            "  inflating: ml-100k/u.occupation    \n",
            "  inflating: ml-100k/u.user          \n",
            "  inflating: ml-100k/u1.base         \n",
            "  inflating: ml-100k/u1.test         \n",
            "  inflating: ml-100k/u2.base         \n",
            "  inflating: ml-100k/u2.test         \n",
            "  inflating: ml-100k/u3.base         \n",
            "  inflating: ml-100k/u3.test         \n",
            "  inflating: ml-100k/u4.base         \n",
            "  inflating: ml-100k/u4.test         \n",
            "  inflating: ml-100k/u5.base         \n",
            "  inflating: ml-100k/u5.test         \n",
            "  inflating: ml-100k/ua.base         \n",
            "  inflating: ml-100k/ua.test         \n",
            "  inflating: ml-100k/ub.base         \n",
            "  inflating: ml-100k/ub.test         \n"
          ]
        }
      ]
    },
    {
      "cell_type": "markdown",
      "source": [
        "### Compute\n",
        "\n"
      ],
      "metadata": {
        "id": "NokDCIG2f0aQ"
      }
    },
    {
      "cell_type": "markdown",
      "source": [
        "This problem should not require using GPU. Since Google Colab will limit your GPU usage, we recommend saving your GPU quota for HW4 A3 and making sure that your runtime is set to CPU by going to **Runtime -> Change runtime type -> Select CPU under \"Hardware accelerator\"**."
      ],
      "metadata": {
        "id": "u6ZveE3Kn9rs"
      }
    },
    {
      "cell_type": "markdown",
      "source": [
        "### Submitting your assignment"
      ],
      "metadata": {
        "id": "XM8-QzFzoPvH"
      }
    },
    {
      "cell_type": "markdown",
      "source": [
        "Once you are done with the problem, make sure to put all of your necessary figures into your PDF submission. Then, download this notebook as a Python file (`.py`) by going to **File -> Download -> Download `.py`**. Rename this file as `hw4-a4.py` and upload to the Gradescope submission for HW4 code."
      ],
      "metadata": {
        "id": "reWpRva3oRQj"
      }
    },
    {
      "cell_type": "markdown",
      "source": [
        "## Code: Setup"
      ],
      "metadata": {
        "id": "X6e6hexPocVV"
      }
    },
    {
      "cell_type": "markdown",
      "source": [
        "Let's start by importing the packages that we'll need to complete this problem."
      ],
      "metadata": {
        "id": "o0VR9GuXojjK"
      }
    },
    {
      "cell_type": "code",
      "execution_count": null,
      "metadata": {
        "id": "aO1zQE45kza0"
      },
      "outputs": [],
      "source": [
        "import csv\n",
        "import numpy as np\n",
        "from scipy.sparse.linalg import svds\n",
        "import matplotlib.pyplot as plt\n",
        "import torch"
      ]
    },
    {
      "cell_type": "markdown",
      "source": [
        "Now, let's load the 100K MovieLens data. If you have downloaded the `u.data` file and uploaded to the \"Files\" tab, the following code block will construct training and test sets for you. There are $m = 1682$ movies and $n = 943$ users in the dataset, and each user has rated at least 20 movies. The total dataset has 100,000 total ratings from all users, and our goal will be to estimate the unknown ratings that each user would assign to each movie. These ratings can then be used to recommend the \"best\" movies for each user!"
      ],
      "metadata": {
        "id": "9ZNgGlPOnVZp"
      }
    },
    {
      "cell_type": "code",
      "source": [
        "data = []\n",
        "with open('u.data') as csvfile:\n",
        "    spamreader = csv.reader(csvfile, delimiter='\\t')\n",
        "    for row in spamreader:\n",
        "        data.append([int(row[0])-1, int(row[1])-1, int(row[2])])\n",
        "data = np.array(data)\n",
        "\n",
        "num_observations = len(data)  # num_observations = 100,000\n",
        "num_users = max(data[:,0])+1  # num_users = 943, indexed 0,...,942\n",
        "num_items = max(data[:,1])+1  # num_items = 1682 indexed 0,...,1681\n",
        "\n",
        "np.random.seed(1)\n",
        "num_train = int(0.8*num_observations)\n",
        "perm = np.random.permutation(data.shape[0])\n",
        "train = data[perm[0:num_train],:]\n",
        "test = data[perm[num_train::],:]\n",
        "\n",
        "print(f\"Successfully loaded 100K MovieLens dataset with\",\n",
        "      f\"{len(train)} training samples and {len(test)} test samples\")"
      ],
      "metadata": {
        "id": "pv_V_YC7nU6a",
        "colab": {
          "base_uri": "https://localhost:8080/"
        },
        "outputId": "b4b37fd4-ed8e-4fa8-a34b-1c0b312accd6"
      },
      "execution_count": null,
      "outputs": [
        {
          "output_type": "stream",
          "name": "stdout",
          "text": [
            "Successfully loaded 100K MovieLens dataset with 80000 training samples and 20000 test samples\n"
          ]
        }
      ]
    },
    {
      "cell_type": "markdown",
      "source": [
        "For this problem, we will consider a matrix $R \\in \\mathbb{R}^{m \\times n}$ where the entry $R_{i,j} \\in \\{1,...,5\\}$ represents the $j$th user's rating on movie $i$. A higher value represents that the user is more staisfied with the movie."
      ],
      "metadata": {
        "id": "-O4_6oFTpUME"
      }
    },
    {
      "cell_type": "markdown",
      "source": [
        "## Code: Assignment"
      ],
      "metadata": {
        "id": "_EDOGcy5qerB"
      }
    },
    {
      "cell_type": "markdown",
      "source": [
        "The rest is yours to code! We provide some scaffolding for your implementation, but feel free to modify it and implement however you would like to. You may use fundamental operators from `NumPy` and `PyTorch` in this problem, such as `numpy.linalg.lstsq, SVD, autograd`, etc., but you many not use any precooked algorithm from a package like `scikit-learn`."
      ],
      "metadata": {
        "id": "Nzk2DH7-rfd_"
      }
    },
    {
      "cell_type": "markdown",
      "source": [
        "### Part (a)"
      ],
      "metadata": {
        "id": "2mkeYWwdniAS"
      }
    },
    {
      "cell_type": "markdown",
      "source": [
        "Our first estimator pools all users together and, for each movie, outputs as its prediction the average user rating of that movie in ``train``. That is, if $\\mu \\in \\mathbb{R}^m$ is a vector where $\\mu_i$ is the average rating of the users that rated the $i$-th movie. Write this estimator $\\widehat{R}$ as a rank-one matrix.\n",
        "\n",
        "Compute the estimate $\\widehat{R}$. What is $\\mathcal{E}_{\\rm test} (\\widehat{R})$ for this estimate?"
      ],
      "metadata": {
        "id": "BrrRCfbHqmxM"
      }
    },
    {
      "cell_type": "code",
      "execution_count": null,
      "metadata": {
        "id": "vy3n5ljTkza3",
        "colab": {
          "base_uri": "https://localhost:8080/"
        },
        "outputId": "14e6c500-e81b-4159-8570-3d9f6d6f7199"
      },
      "outputs": [
        {
          "output_type": "stream",
          "name": "stdout",
          "text": [
            "error: 1.0636\n"
          ]
        }
      ],
      "source": [
        "# Your code goes here. You should:\n",
        "\n",
        "# 1. Compute estimate and\n",
        "def compute_R_hat(train: np.ndarray, num_items: int) -> np.ndarray:\n",
        "    mu = np.zeros(num_items)\n",
        "    counts = np.zeros(num_items)\n",
        "\n",
        "    for i in range(train.shape[0]):\n",
        "        mu[train[i, 1]] += train[i, 2]\n",
        "        counts[train[i, 1]] += 1\n",
        "\n",
        "    counts = np.where(counts == 0, 1, counts)\n",
        "    return mu / counts\n",
        "\n",
        "# 2. Evaluate test error\n",
        "def mse(test: np.ndarray, R_hat: np.ndarray) -> float:\n",
        "    squared_error = 0.0\n",
        "    for i in range(test.shape[0]):\n",
        "        true_rating = test[i, 2]\n",
        "        predicted_rating = R_hat[test[i, 1]]\n",
        "        squared_error += (true_rating - predicted_rating) ** 2\n",
        "\n",
        "    # Note: saw on ed that if there is no prediction for that movie based on\n",
        "    # training dataset, so compute error with mean of all ratings. but, i also\n",
        "    # saw another post that said this is not a possibility with this dataset, so\n",
        "    # i have not implemented that feature and have not gotten such an error\n",
        "    # either\n",
        "    return squared_error / test.shape[0]\n",
        "\n",
        "\n",
        "R_hat = compute_R_hat(train, num_items)\n",
        "\n",
        "test_error = mse(test, R_hat)\n",
        "print(f\"error: {test_error:.4f}\")\n"
      ]
    },
    {
      "cell_type": "markdown",
      "source": [
        "### Part (b)\n",
        "Allocate a matrix $\\widetilde{R}_{i, j} \\in \\mathbb{R}^{m \\times n}$ and set its entries equal to the known values in the training set, and $0$ otherwise.\n",
        "\n",
        "Let $\\widehat{R}^{(d)}$ be the best rank-$d$ approximation (in terms of squared error) approximation to $\\widetilde{R}$. This is equivalent to computing the singular value decomposition (SVD) and using the top $d$ singular values. This learns a lower-dimensional vector representation for users and movies, assuming that each user would give a rating of $0$ to any movie they have not reviewed.\n",
        "\n",
        "- For each $d = 1, 2, 5, 10, 20, 50$, compute the estimator $\\widehat{R}^{(d)}$. We recommend using an efficient solver, such as ``scipy.sparse.linalg.svds``.\n",
        "- Plot the average squared error of predictions on the training set and test set on a single plot, as a function of $d$."
      ],
      "metadata": {
        "id": "y7BoyoWHpl2g"
      }
    },
    {
      "cell_type": "code",
      "execution_count": null,
      "metadata": {
        "id": "W6t87ACNkza5"
      },
      "outputs": [],
      "source": [
        "# Your code goes here\n",
        "# Create the matrix R twiddle (\\widetilde{R}).\n",
        "r_twiddle = np.zeros((1682, 943))\n",
        "for i in range(train.shape[0]):\n",
        "  r_twiddle[train[i, 1], train[i, 0]] = train[i, 2]\n"
      ]
    },
    {
      "cell_type": "code",
      "execution_count": null,
      "metadata": {
        "id": "HWf-Umhdkza5"
      },
      "outputs": [],
      "source": [
        "# Your code goes here\n",
        "def construct_estimator(d, r_twiddle):\n",
        "   U, S, Vt = svds(r_twiddle, k=d)\n",
        "   R_hat_d = U @ np.diag(S) @ Vt\n",
        "   return R_hat_d\n",
        "\n",
        "\n",
        "def get_error(d, r_twiddle, dataset):\n",
        "  R_hat_d = construct_estimator(d, r_twiddle)\n",
        "  prediction = R_hat_d[dataset[:, 1], dataset[:, 0]]\n",
        "\n",
        "  return np.mean((dataset[:, 2] - prediction) ** 2)"
      ]
    },
    {
      "cell_type": "code",
      "execution_count": null,
      "metadata": {
        "id": "Y6uMbMhGkza6",
        "colab": {
          "base_uri": "https://localhost:8080/",
          "height": 467
        },
        "outputId": "ec69eede-bc61-4615-bafe-fc34ad59ceac"
      },
      "outputs": [
        {
          "output_type": "execute_result",
          "data": {
            "text/plain": [
              "Text(0, 0.5, 'MSE')"
            ]
          },
          "metadata": {},
          "execution_count": 33
        },
        {
          "output_type": "display_data",
          "data": {
            "text/plain": [
              "<Figure size 640x480 with 1 Axes>"
            ],
            "image/png": "[encoded data removed]"
          },
          "metadata": {}
        }
      ],
      "source": [
        "# Your code goes here\n",
        "# Evaluate train and test error for: d = 1, 2, 5, 10, 20, 50.\n",
        "train_errors = []\n",
        "test_errors = []\n",
        "for d in [1, 2, 5, 10, 20, 50]:\n",
        "  train_errors.append(get_error(d, r_twiddle, train))\n",
        "  test_errors.append(get_error(d, r_twiddle, test))\n",
        "\n",
        "plt.plot([1, 2, 5, 10, 20, 50], train_errors, label='train')\n",
        "plt.plot([1, 2, 5, 10, 20, 50], test_errors, label='test')\n",
        "plt.legend()\n",
        "plt.xlabel('d')\n",
        "plt.ylabel('MSE')"
      ]
    },
    {
      "cell_type": "code",
      "source": [
        "# Your code goes here\n",
        "# Plot both train and test error as a function of d on the same plot.\n"
      ],
      "metadata": {
        "id": "Np_g0EbmsoNJ"
      },
      "execution_count": null,
      "outputs": []
    },
    {
      "cell_type": "markdown",
      "source": [
        "### Part (c)\n",
        "Replacing all missing values by a constant may impose strong and potentially incorrect assumptions on the unobserved entries of $R$. A more reasonable choice is to minimize the mean squared error (MSE) only on rated movies. Define a loss function:\n",
        "$$\n",
        "\\mathcal{L} \\left( \\{u_i\\}_{i=1}^m, \\{v_j\\}_{j=1}^n \\right) :=\n",
        "\\sum_{(i, j, R_{i, j}) \\in {\\rm train}} (\\langle u_i,v_j\\rangle - R_{i,j})^2 +\n",
        "\\lambda \\sum_{i=1}^m \\|u_i\\|_2^2 +\n",
        "\\lambda \\sum_{j=1}^n \\|v_j\\|_2^2\n",
        "$$\n",
        "where $\\lambda > 0$ is the regularization coefficient. We will implement algorithms to learn vector representations by minimizing the above loss. You may need to tune $\\lambda$ and $\\sigma$ to optimize the loss.\n",
        "\n",
        "Implement alternating minimization (as defined in the homework spec) and plot the MSE of ``train`` and ``test`` for $d \\in \\{1, 2, 5, 10, 20, 50\\}$.\n",
        "\n",
        "*Note: we define the loss function here as the sum of squared errors; be careful to calculate and plot the mean squared error for your results*"
      ],
      "metadata": {
        "id": "W8x30SANrqN4"
      }
    },
    {
      "cell_type": "code",
      "execution_count": null,
      "metadata": {
        "id": "m1Jt9wLzkza6"
      },
      "outputs": [],
      "source": [
        "# Your code goes here. You are welcome to change the parameter lists and/or write new functions to complete this part of the assignment.\n",
        "# In particular, you will likely also want to use R twiddle, and you may want to create global data structures to store observed entries.\n",
        "# These global data structures might look like mappings of users to the movies they've reviewed, and of movies to the users who have reviewed that movie.\n",
        "\n",
        "def closed_form_u(V, U, l):\n",
        "  num_movies, d = U.shape\n",
        "\n",
        "  for i in range(num_movies):\n",
        "      rated_users = np.where(r_twiddle[i, :] > 0)[0]\n",
        "\n",
        "      if len(rated_users) == 0:\n",
        "          continue\n",
        "\n",
        "      V_j = V[rated_users]\n",
        "      R_i = r_twiddle[i, rated_users]\n",
        "\n",
        "      A = V_j.T @ V_j + l * np.eye(d)\n",
        "      b = V_j.T @ R_i\n",
        "      U[i] = np.linalg.solve(A, b)\n",
        "\n",
        "  return U\n",
        "\n",
        "\n",
        "def closed_form_v(V, U, l):\n",
        "  num_users, d = V.shape\n",
        "\n",
        "  for j in range(num_users):\n",
        "      rated_movies = np.where(r_twiddle[:, j] > 0)[0]\n",
        "\n",
        "      if len(rated_movies) == 0:\n",
        "          continue\n",
        "\n",
        "      U_i = U[rated_movies]\n",
        "      R_j = r_twiddle[rated_movies, j]\n",
        "\n",
        "      A = U_i.T @ U_i + l * np.eye(d)\n",
        "      b = U_i.T @ R_j\n",
        "      V[j] = np.linalg.solve(A, b)\n",
        "\n",
        "  return V\n",
        "\n",
        "\n",
        "def construct_alternating_estimator(\n",
        "    d, l=10.0, delta=1e-1, sigma=0.1, U=None, V=None\n",
        "):\n",
        "\n",
        "  m, n = r_twiddle.shape\n",
        "\n",
        "  if U is None:\n",
        "      U = np.random.randn(m, d) * sigma\n",
        "  if V is None:\n",
        "      V = np.random.randn(n, d) * sigma\n",
        "\n",
        "  for i in range(500):\n",
        "      U_prev, V_prev = U.copy(), V.copy()\n",
        "\n",
        "      for i in range(m):\n",
        "          rated_users = np.nonzero(r_twiddle[i, :])[0]\n",
        "          if len(rated_users) > 0:\n",
        "              V_rated = V[rated_users, :]\n",
        "              ratings = r_twiddle[i, rated_users]\n",
        "              U[i] = np.linalg.solve(V_rated.T @ V_rated + l * np.eye(d), V_rated.T @ ratings)\n",
        "\n",
        "      for j in range(n):\n",
        "          rated_movies = np.nonzero(r_twiddle[:, j])[0]\n",
        "          if len(rated_movies) > 0:\n",
        "              U_rated = U[rated_movies, :]\n",
        "              ratings = r_twiddle[rated_movies, j]\n",
        "              V[j] = np.linalg.solve(U_rated.T @ U_rated + l * np.eye(d), U_rated.T @ ratings)\n",
        "\n",
        "      if np.linalg.norm(U - U_prev) < delta and np.linalg.norm(V - V_prev) < delta:\n",
        "          break\n",
        "\n",
        "  return U, V\n",
        "\n",
        "\n",
        "# Your code goes here\n",
        "# Any additional functions that you may write to help implement alternating minimization."
      ]
    },
    {
      "cell_type": "code",
      "execution_count": null,
      "metadata": {
        "id": "i4SLeTASkza8",
        "colab": {
          "base_uri": "https://localhost:8080/",
          "height": 467
        },
        "outputId": "74394219-4b08-43b6-be54-5024979c3c32"
      },
      "outputs": [
        {
          "output_type": "execute_result",
          "data": {
            "text/plain": [
              "Text(0, 0.5, 'MSE')"
            ]
          },
          "metadata": {},
          "execution_count": 10
        },
        {
          "output_type": "display_data",
          "data": {
            "text/plain": [
              "<Figure size 640x480 with 1 Axes>"
            ],
            "image/png": "[encoded data removed]"
          },
          "metadata": {}
        }
      ],
      "source": [
        "# Your code goes here\n",
        "# Evaluate train and test error for: d = 1, 2, 5, 10, 20, 50.\n",
        "\n",
        "def mse(U, V, dataset):\n",
        "    predictions = np.sum(U[dataset[:, 1], :] * V[dataset[:, 0], :], axis=1)\n",
        "    return np.mean((dataset[:, 2] - predictions) ** 2)\n",
        "\n",
        "train_errors = []\n",
        "test_errors = []\n",
        "for d in [1, 2, 5, 10, 20, 50]:\n",
        "    U, V = construct_alternating_estimator(d, l=10.0, delta=1e-3, sigma=0.1)\n",
        "\n",
        "    train_errors.append(mse(U, V, train))\n",
        "    test_errors.append(mse(U, V, test))\n",
        "\n",
        "\n",
        "plt.plot([1, 2, 5, 10, 20, 50], train_errors, label='train')\n",
        "plt.plot([1, 2, 5, 10, 20, 50], test_errors, label='test')\n",
        "plt.legend()\n",
        "plt.xlabel('d')\n",
        "plt.ylabel('MSE')"
      ]
    }
  ],
  "metadata": {
    "kernelspec": {
      "display_name": "Python 3",
      "language": "python",
      "name": "python3"
    },
    "language_info": {
      "codemirror_mode": {
        "name": "ipython",
        "version": 3
      },
      "file_extension": ".py",
      "mimetype": "text/x-python",
      "name": "python",
      "nbconvert_exporter": "python",
      "pygments_lexer": "ipython3",
      "version": "3.6.7"
    },
    "colab": {
      "provenance": []
    }
  },
  "nbformat": 4,
  "nbformat_minor": 0
}