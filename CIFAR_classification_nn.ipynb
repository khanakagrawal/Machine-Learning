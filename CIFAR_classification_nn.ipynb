{
  "cells": [
    {
      "cell_type": "markdown",
      "metadata": {
        "id": "pc0_JGqzbSoX"
      },
      "source": [
        "# Homework 4: Image Classification on CIFAR-10\n",
        "  🛫 🚘 🐦 🐱 🦌 🐶 🐸 🐴 🚢 🛻"
      ]
    },
    {
      "cell_type": "markdown",
      "metadata": {
        "id": "_9Z_b5QOe_a3"
      },
      "source": [
        "## Information before starting"
      ]
    },
    {
      "cell_type": "markdown",
      "metadata": {
        "id": "osje6KgQbevk"
      },
      "source": [
        "In this problem, we will explore different deep learning architectures for image classification on the CIFAR-10 dataset. Make sure that you are familiar with torch `Tensor`s, two-dimensional convolutions (`nn.Conv2d`) and fully-connected layers (`nn.Linear`), ReLU non-linearities (`F.relu`), pooling (`nn.MaxPool2d`), and tensor reshaping (`view`). **Make sure to read through all instructions in both this notebook and in the PDF while completing this problem!**"
      ]
    },
    {
      "cell_type": "markdown",
      "metadata": {
        "id": "PkF2JpW3b1vu"
      },
      "source": [
        "### Copying this Colab Notebook to your Google Drive\n",
        "\n"
      ]
    },
    {
      "cell_type": "markdown",
      "metadata": {
        "id": "w-g_xLxSb8bZ"
      },
      "source": [
        "Since the course staff is the author of this notebook, you cannot make any lasting changes to it. You should make a copy of it to your Google Drive by clicking **File -> Save a Copy in Drive**."
      ]
    },
    {
      "cell_type": "markdown",
      "metadata": {
        "id": "iLIZOx3dcRTX"
      },
      "source": [
        "### Problem Introduction"
      ]
    },
    {
      "cell_type": "markdown",
      "metadata": {
        "id": "WQBSHkEscUT9"
      },
      "source": [
        "You've already had some practice using the PyTorch library in HW3, but this problem dives into training more complex deep learning models.\n",
        "\n",
        "The specific task we are trying to solve in this problem is image classification. We're using a common dataset called CIFAR-10 which has 60,000 images separated into 10 classes:\n",
        "* airplane\n",
        "* automobile\n",
        "* bird\n",
        "* cat\n",
        "* deer\n",
        "* dog\n",
        "* frog\n",
        "* horse\n",
        "* ship\n",
        "* truck\n",
        "\n",
        "We've provided an end-to-end example of loading data, training a model, and performing evaluation. We recommend using this code as a template for your implementations of the more complex models. Feel free to modify or reuse any of the functions we provide.\n",
        "\n",
        "**Unlike other coding problems in the past, this one does not include an autograded component.**"
      ]
    },
    {
      "cell_type": "markdown",
      "metadata": {
        "id": "p4ZRtxDUe3Vj"
      },
      "source": [
        "### Enabling GPU\n",
        "\n",
        "We are using Google Colab because it has free GPU runtimes available. GPUs can accelerate training times for this problem by 10-100x when compared to using CPU. To use the GPU runtime on Colab, make sure to **enable** the runtime by going to **Runtime -> Change runtime type -> Select T4 GPU under \"Hardware accelerator\"**.\n",
        "\n",
        "Note that GPU runtimes are *limited* on Colab. We recommend limiting your training to short-running jobs (under 15 minutes each) and spread your work over time, if possible. Colab *will* limit your usage of GPU time, so plan ahead and be prepared to take breaks during training. If you have used up your quota for GPU, check back in a day or so to be able to enable GPU again.\n",
        "\n",
        "Your code will still run on CPU, so if you are just starting to implement your code or have been GPU limited by Colab, you can still make changes and run your code - it will just be quite a bit slower. You can also choose to download your notebook and run locally if you have a personal GPU or have a faster CPU than the one Colab provides. If you choose to do this, you may need to install the packages that this notebook depends on to your `cse446` conda environment or to another Python environment of your choice."
      ]
    },
    {
      "cell_type": "markdown",
      "metadata": {
        "id": "H8jIc_-3hUBM"
      },
      "source": [
        "To check if you have enabled GPU, run the following cell. If `device` is `cuda`, it means that GPU has been enabled successfully."
      ]
    },
    {
      "cell_type": "code",
      "execution_count": null,
      "metadata": {
        "colab": {
          "base_uri": "https://localhost:8080/"
        },
        "id": "cRyHnuRchSW7",
        "outputId": "88edf623-f5f9-4644-f17c-10214e9c0b06"
      },
      "outputs": [
        {
          "output_type": "stream",
          "name": "stdout",
          "text": [
            "cuda\n"
          ]
        }
      ],
      "source": [
        "import torch\n",
        "\n",
        "DEVICE = \"cuda\" if torch.cuda.is_available() else \"cpu\"\n",
        "print(DEVICE)  # this should print out CUDA"
      ]
    },
    {
      "cell_type": "markdown",
      "metadata": {
        "id": "ztjTIWR5lTn9"
      },
      "source": [
        "### Submitting your assignment"
      ]
    },
    {
      "cell_type": "markdown",
      "metadata": {
        "id": "pipYnTWYm3WS"
      },
      "source": [
        "Once you are done with the problem, make sure to put all of your necessary figures into your PDF submission. Then, download this notebook as a Python file (`.py`) by going to **File -> Download -> Download `.py`**. Rename this file as `hw4-a3.py` and upload to the Gradescope submission for HW4 code."
      ]
    },
    {
      "cell_type": "markdown",
      "metadata": {
        "id": "UNmkdWoXvkBE"
      },
      "source": [
        "## End-to-end Example"
      ]
    },
    {
      "cell_type": "markdown",
      "metadata": {
        "id": "ZTsVp6bdiDrN"
      },
      "source": [
        "### Background and Setup"
      ]
    },
    {
      "cell_type": "markdown",
      "metadata": {
        "id": "_aQV0xYtiLcY"
      },
      "source": [
        "1. We first import all of the dependencies required for this problem:"
      ]
    },
    {
      "cell_type": "code",
      "execution_count": null,
      "metadata": {
        "id": "bb7WymOmv_cx"
      },
      "outputs": [],
      "source": [
        "import torch\n",
        "from torch import nn\n",
        "import numpy as np\n",
        "\n",
        "from typing import Tuple, Union, List, Callable\n",
        "from torch.optim import SGD\n",
        "import torchvision\n",
        "from torch.utils.data import DataLoader, TensorDataset, random_split\n",
        "import matplotlib.pyplot as plt\n",
        "from tqdm.notebook import tqdm\n",
        "\n",
        "%matplotlib inline"
      ]
    },
    {
      "cell_type": "markdown",
      "metadata": {
        "id": "-SusLoH91CEz"
      },
      "source": [
        "2. And check if we are using GPU, if it is available. (Make sure to set your runtime to enable GPU!)"
      ]
    },
    {
      "cell_type": "code",
      "execution_count": null,
      "metadata": {
        "colab": {
          "base_uri": "https://localhost:8080/"
        },
        "id": "vmxNdxwvxNs1",
        "outputId": "0d473e2b-4498-484f-bce6-435c1ee55bcd"
      },
      "outputs": [
        {
          "output_type": "stream",
          "name": "stdout",
          "text": [
            "cuda\n"
          ]
        }
      ],
      "source": [
        "DEVICE = \"cuda\" if torch.cuda.is_available() else \"cpu\"\n",
        "print(DEVICE)  # this should print out CUDA"
      ]
    },
    {
      "cell_type": "markdown",
      "metadata": {
        "id": "LbFk2t2RxYcn"
      },
      "source": [
        "*To use the GPU, you will need to send both the model and the data to a device; this transfers the model from its default location on CPU to the GPU.*\n",
        "\n",
        "*Note that torch operations on Tensors will fail if they are not located on the same device. Here's a small example of how to send the model and data to your device:*\n",
        "\n",
        "  ```python\n",
        "  model = model.to(DEVICE)  # Sending a model to GPU\n",
        "\n",
        "  for x, y in tqdm(data_loader):\n",
        "    x, y = x.to(DEVICE), y.to(DEVICE)\n",
        "  ```\n",
        "*When reading tensors you may need to send them back to cpu, you can do so with `x = x.cpu()`*"
      ]
    },
    {
      "cell_type": "markdown",
      "metadata": {
        "id": "xODE5P5D1Wwy"
      },
      "source": [
        "3. Now, let's load the CIFAR-10 data. We can take advantage of public datasets available through PyTorch torchvision!"
      ]
    },
    {
      "cell_type": "code",
      "execution_count": null,
      "metadata": {
        "colab": {
          "base_uri": "https://localhost:8080/"
        },
        "id": "wOvLuZry1cKc",
        "outputId": "4035337e-7a74-4e38-ed5d-d12c9f03fc3a"
      },
      "outputs": [
        {
          "output_type": "stream",
          "name": "stdout",
          "text": [
            "Downloading https://www.cs.toronto.edu/~kriz/cifar-10-python.tar.gz to ./data/cifar-10-python.tar.gz\n"
          ]
        },
        {
          "output_type": "stream",
          "name": "stderr",
          "text": [
            "100%|██████████| 170M/170M [00:18<00:00, 9.05MB/s]\n"
          ]
        },
        {
          "output_type": "stream",
          "name": "stdout",
          "text": [
            "Extracting ./data/cifar-10-python.tar.gz to ./data\n",
            "Files already downloaded and verified\n"
          ]
        }
      ],
      "source": [
        "train_dataset = torchvision.datasets.CIFAR10(\"./data\", train=True, download=True, transform=torchvision.transforms.ToTensor())\n",
        "test_dataset = torchvision.datasets.CIFAR10(\"./data\", train=False, download=True, transform=torchvision.transforms.ToTensor())"
      ]
    },
    {
      "cell_type": "markdown",
      "metadata": {
        "id": "oG78KMOj61HJ"
      },
      "source": [
        "4. Finally, like we did in HW3, we'll use the PyTorch `DataLoader` to wrap our datasets. You've already seen that `DataLoader`s handle batching, shuffling, and iterating over data, and this is really useful for this problem as well!\n",
        "\n",
        "*Since training on all of the 50,000 training samples can be prohibitively expensive, we define a flag called* `SAMPLE_DATA` *that controls if we should make the dataset smaller for faster training time. When* `SAMPLE_DATA=true`, *we'll only use 10% of our training data when training and performing our hyperparameter searches.*  **Make sure that you've set `SAMPLE_DATA=false` when you want to perform your final training loops for submission!**"
      ]
    },
    {
      "cell_type": "code",
      "execution_count": null,
      "metadata": {
        "id": "BKAXgUdHqEDI"
      },
      "outputs": [],
      "source": [
        "SAMPLE_DATA = False # set this to True if you want to speed up training when searching for hyperparameters!"
      ]
    },
    {
      "cell_type": "code",
      "execution_count": null,
      "metadata": {
        "id": "mHIZY4BoRxvC"
      },
      "outputs": [],
      "source": [
        "batch_size = 128\n",
        "\n",
        "if SAMPLE_DATA:\n",
        "  train_dataset, _ = random_split(train_dataset, [int(0.1 * len(train_dataset)), int(0.9 * len(train_dataset))]) # get 10% of train dataset and \"throw away\" the other 90%\n",
        "\n",
        "train_dataset, val_dataset = random_split(train_dataset, [int(0.9 * len(train_dataset)), int( 0.1 * len(train_dataset))])\n",
        "\n",
        "# Create separate dataloaders for the train, test, and validation set\n",
        "train_loader = DataLoader(\n",
        "    train_dataset,\n",
        "    batch_size=batch_size,\n",
        "    shuffle=True\n",
        ")\n",
        "\n",
        "val_loader = DataLoader(\n",
        "    val_dataset,\n",
        "    batch_size=batch_size,\n",
        "    shuffle=True\n",
        ")\n",
        "\n",
        "test_loader = DataLoader(\n",
        "    test_dataset,\n",
        "    batch_size=batch_size,\n",
        "    shuffle=True\n",
        ")"
      ]
    },
    {
      "cell_type": "markdown",
      "metadata": {
        "id": "kawTZgAzr4Lf"
      },
      "source": [
        "Now, we're ready to train!"
      ]
    },
    {
      "cell_type": "markdown",
      "metadata": {
        "id": "MtuqbuxHr517"
      },
      "source": [
        "### Logistic Regression Example"
      ]
    },
    {
      "cell_type": "markdown",
      "metadata": {
        "id": "ELjydYRt5Frf"
      },
      "source": [
        "Let's first take a look at our data to get an understanding of what we are doing. As a reminder, CIFAR-10 is a dataset containing images split into 10 classes."
      ]
    },
    {
      "cell_type": "code",
      "execution_count": null,
      "metadata": {
        "colab": {
          "base_uri": "https://localhost:8080/",
          "height": 537
        },
        "id": "_UU8aIle5m8Q",
        "outputId": "9909ea26-09b1-44cc-c17e-1e52a5c1c7d9"
      },
      "outputs": [
        {
          "name": "stdout",
          "output_type": "stream",
          "text": [
            "A single batch of images has shape: torch.Size([128, 3, 32, 32])\n",
            "A single RGB image has 3 channels, width 32, and height 32.\n",
            "Size of a batch of images flattened with view: torch.Size([128, 3072])\n",
            "Size of a batch of images flattened with flatten: torch.Size([128, 3072])\n",
            "True\n",
            "This image is labeled as class bird\n"
          ]
        },
        {
          "data": {
            "image/png": "[encoded data removed]",
            "text/plain": [
              "<Figure size 640x480 with 1 Axes>"
            ]
          },
          "metadata": {},
          "output_type": "display_data"
        }
      ],
      "source": [
        "imgs, labels = next(iter(train_loader))\n",
        "print(f\"A single batch of images has shape: {imgs.size()}\")\n",
        "example_image, example_label = imgs[0], labels[0]\n",
        "c, w, h = example_image.size()\n",
        "print(f\"A single RGB image has {c} channels, width {w}, and height {h}.\")\n",
        "\n",
        "# This is one way to flatten our images\n",
        "batch_flat_view = imgs.view(-1, c * w * h)\n",
        "print(f\"Size of a batch of images flattened with view: {batch_flat_view.size()}\")\n",
        "\n",
        "# This is another equivalent way\n",
        "batch_flat_flatten = imgs.flatten(1)\n",
        "print(f\"Size of a batch of images flattened with flatten: {batch_flat_flatten.size()}\")\n",
        "\n",
        "# The new dimension is just the product of the ones we flattened\n",
        "d = example_image.flatten().size()[0]\n",
        "print(c * w * h == d)\n",
        "\n",
        "# View the image\n",
        "t =  torchvision.transforms.ToPILImage()\n",
        "plt.imshow(t(example_image))\n",
        "\n",
        "# These are what the class labels in CIFAR-10 represent. For more information,\n",
        "# visit https://www.cs.toronto.edu/~kriz/cifar.html\n",
        "classes = [\"airplane\", \"automobile\", \"bird\", \"cat\", \"deer\", \"dog\", \"frog\",\n",
        "           \"horse\", \"ship\", \"truck\"]\n",
        "print(f\"This image is labeled as class {classes[example_label]}\")\n"
      ]
    },
    {
      "cell_type": "markdown",
      "metadata": {
        "id": "JdBbLQdC_mA_"
      },
      "source": [
        "In this problem, we will attempt to predict what class an image is labeled as."
      ]
    },
    {
      "cell_type": "markdown",
      "metadata": {
        "id": "J3HQyGMn_42D"
      },
      "source": [
        "1. First, let's create our model. Note: for a linear model we could flatten the data before passing it into the model, but that is not the case for convolutional neural networks."
      ]
    },
    {
      "cell_type": "code",
      "execution_count": null,
      "metadata": {
        "id": "5qLVC9PbACDt"
      },
      "outputs": [],
      "source": [
        "def linear_model() -> nn.Module:\n",
        "    \"\"\"Instantiate a linear model and send it to device.\"\"\"\n",
        "    model =  nn.Sequential(\n",
        "            nn.Flatten(),\n",
        "            nn.Linear(d, 10)\n",
        "         )\n",
        "    return model.to(DEVICE)"
      ]
    },
    {
      "cell_type": "markdown",
      "metadata": {
        "id": "kd49udL8AZ_E"
      },
      "source": [
        "2. Let's define a method to train this model using SGD as our optimizer."
      ]
    },
    {
      "cell_type": "code",
      "execution_count": null,
      "metadata": {
        "id": "YgcFP1-UBj1Z"
      },
      "outputs": [],
      "source": [
        "def train(\n",
        "    model: nn.Module, optimizer: SGD,\n",
        "    train_loader: DataLoader, val_loader: DataLoader\n",
        "    )-> Tuple[List[float], List[float], List[float], List[float]]:\n",
        "    \"\"\"\n",
        "    Trains a model for the specified number of epochs using the loaders.\n",
        "\n",
        "    Returns:\n",
        "    Lists of training loss, training accuracy, validation loss, validation accuracy for each epoch.\n",
        "    \"\"\"\n",
        "\n",
        "    loss = nn.CrossEntropyLoss()\n",
        "    train_losses = []\n",
        "    train_accuracies = []\n",
        "    val_losses = []\n",
        "    val_accuracies = []\n",
        "    accuracy = 0\n",
        "    while accuracy < 0.65:\n",
        "        model.train()\n",
        "        train_loss = 0.0\n",
        "        train_acc = 0.0\n",
        "\n",
        "        # Main training loop; iterate over train_loader. The loop\n",
        "        # terminates when the train loader finishes iterating, which is one epoch.\n",
        "        for (x_batch, labels) in train_loader:\n",
        "            x_batch, labels = x_batch.to(DEVICE), labels.to(DEVICE)\n",
        "            optimizer.zero_grad()\n",
        "            labels_pred = model(x_batch)\n",
        "            batch_loss = loss(labels_pred, labels)\n",
        "            train_loss = train_loss + batch_loss.item()\n",
        "\n",
        "            labels_pred_max = torch.argmax(labels_pred, 1)\n",
        "            batch_acc = torch.sum(labels_pred_max == labels)\n",
        "            train_acc = train_acc + batch_acc.item()\n",
        "\n",
        "            batch_loss.backward()\n",
        "            optimizer.step()\n",
        "        train_losses.append(train_loss / len(train_loader))\n",
        "        train_accuracies.append(train_acc / (batch_size * len(train_loader)))\n",
        "\n",
        "        # Validation loop; use .no_grad() context manager to save memory.\n",
        "        model.eval()\n",
        "        val_loss = 0.0\n",
        "        val_acc = 0.0\n",
        "\n",
        "        with torch.no_grad():\n",
        "            for (v_batch, labels) in val_loader:\n",
        "                v_batch, labels = v_batch.to(DEVICE), labels.to(DEVICE)\n",
        "                labels_pred = model(v_batch)\n",
        "                v_batch_loss = loss(labels_pred, labels)\n",
        "                val_loss = val_loss + v_batch_loss.item()\n",
        "\n",
        "                v_pred_max = torch.argmax(labels_pred, 1)\n",
        "                batch_acc = torch.sum(v_pred_max == labels)\n",
        "                val_acc = val_acc + batch_acc.item()\n",
        "            val_losses.append(val_loss / len(val_loader))\n",
        "            val_accuracies.append(val_acc / (batch_size * len(val_loader)))\n",
        "\n",
        "        accuracy = val_accuracies[-1]\n",
        "\n",
        "    return train_losses, train_accuracies, val_losses, val_accuracies\n"
      ]
    },
    {
      "cell_type": "markdown",
      "metadata": {
        "id": "2ZUqV2ZrEf-u"
      },
      "source": [
        "3. Now, let's define our hyperparameter search. For this problem, we will be using SGD. The two hyperparameters for our linear model trained with SGD are the learning rate and momentum. Only learning rate will be searched for in this example, but you will be tuning multiple hyperparameters. **Feel free to experiment with hyperparameters and how you search. We recommend implementing random search!**\n",
        "\n",
        "*Note: We ask you to plot the accuracies for the 3 best models for each structure, so you will need to return multiple sets of hyperparameters for the homework.*"
      ]
    },
    {
      "cell_type": "code",
      "execution_count": null,
      "metadata": {
        "id": "mdtH1Rx3G4SC"
      },
      "outputs": [],
      "source": [
        "def parameter_search(train_loader: DataLoader,\n",
        "                     val_loader: DataLoader,\n",
        "                     model_fn:Callable[[], nn.Module]) -> float:\n",
        "    \"\"\"\n",
        "    Parameter search for our linear model using SGD.\n",
        "\n",
        "    Args:\n",
        "    train_loader: the train dataloader.\n",
        "    val_loader: the validation dataloader.\n",
        "    model_fn: a function that, when called, returns a torch.nn.Module.\n",
        "\n",
        "    Returns:\n",
        "    The learning rate with the least validation loss.\n",
        "    NOTE: you may need to modify this function to search over and return\n",
        "     other parameters beyond learning rate.\n",
        "    \"\"\"\n",
        "    num_iter = 10\n",
        "    best_loss = torch.tensor(np.inf)\n",
        "    best_lr = 0.0\n",
        "\n",
        "    lrs = torch.linspace(10 ** (-6), 10 ** (-1), num_iter)\n",
        "\n",
        "    for lr in lrs:\n",
        "        print(f\"trying learning rate {lr}\")\n",
        "        model = model_fn()\n",
        "        optim = SGD(model.parameters(), lr)\n",
        "        train_loss, train_acc, val_loss, val_acc = train(\n",
        "            model,\n",
        "            optim,\n",
        "            train_loader,\n",
        "            val_loader,\n",
        "            epochs=5\n",
        "            )\n",
        "\n",
        "        if min(val_loss) < best_loss:\n",
        "            best_loss = min(val_loss)\n",
        "            best_lr = lr\n",
        "\n",
        "    return best_lr"
      ]
    },
    {
      "cell_type": "markdown",
      "metadata": {
        "id": "ZULxD9sGHm1D"
      },
      "source": [
        "4. Now that we have everything, we can train and evaluate our model."
      ]
    },
    {
      "cell_type": "code",
      "execution_count": null,
      "metadata": {
        "colab": {
          "base_uri": "https://localhost:8080/",
          "height": 516,
          "referenced_widgets": [
            "5ffb691e4d094c9ba58089bcccf50891",
            "7290249a3b2f458bb556b39dc5c39175",
            "e51704096b764789892ff5e9784d9f5d",
            "9069ac2bf00d42aaae77bacba6eb3f8a",
            "c89941b87f164716af2df3d25b5e0fac",
            "389367cb58764843be767f261690f78b",
            "55f41e42d4524371a2084fbaa0867b8b",
            "436c3a2ba8804f4999327cc3d3a9a7f2",
            "808c3b628dbf4395a5ef3db9845791ef",
            "eb119cd0254345db8cb50b5417857a83",
            "08bc9087149643658cbecc5d2a82fca0",
            "4f561b6d984a4d94b00b7a279f8bdb5d",
            "bf6a2d64d6ee456085e89d2ada331938",
            "6c809a9f5ac04c8582950fd92d3ec3d9",
            "aabbea56d1ee44aba6d729c53eb66e44",
            "93b49b783b5b4ef6b622652505eec8a1",
            "804b0e6f4bee4b3fa7ac8f7868955fce",
            "a76fd0ded0944fbf978c716622af4b2e",
            "5102578d016747dc84ab6dfa18125137",
            "1abc0d34334541838c09f46222313429",
            "d54dd6d0aba641c584d950df8f76f518",
            "ebdbe6bcc61947ccb16b3015e1c019ec",
            "ecf4d37169db4ac89b361c15b3238d13",
            "c3f4e182036c4f50bc8f2f13d70b363e",
            "4fb6a08661714559acd3e5186761ef41",
            "c001a266ce9743ee84a5912ad7664b41",
            "0bd079819a064721a3530592570a89b2",
            "3718e1f80c3b493e889b9ed95f10acd1",
            "c509868649d3461caafc0607feb6aea6",
            "ea30c4866d9d42d5bbd96090c6409012",
            "6eb84fcf1d8c4c81bb28768bcb913486",
            "2288a8b80b304bb7b6c273a50794b126",
            "d8e607be0aae4c2591a145e26c40738e",
            "299e891212794db395288ec678253731",
            "fe9a298f117b43959ed575df99d8735f",
            "352ef1e281864259b2586efa2c7b2f1a",
            "d6a2f96bf0144b0490d1bf3ec9d5524d",
            "718d37cfccdc4807abb3b6cf0cc5a773",
            "11b58a749e3c408588c463d1896aab9b",
            "d6fa2d09861d4d769c86c645fba9dfa7",
            "aaa2c9b5fd954933be126133850cb49b",
            "75fe55d37cc540ee99a46645dc2645d0",
            "96cbb8f716674820ade021eb9168a4a5",
            "408f1a2e0d814e589048600a597496f2",
            "2288a31f703b4bbda0ba7aa7f7d37065",
            "c5fd5579e35247b9bee8758f35dd30e0",
            "19a1cd6947154870a8284fb69588b371",
            "f388a576e41a4755abb59ec62bef27ac",
            "1c115ceab9d54240bc654bf21d967cf5",
            "6f30640f20d9497fa1eb4ad39944df2b",
            "a32aefc94c2448bf866b35b1792b4a1c",
            "1b1349cef5e34b0f854f93e342f83995",
            "0d676e2f74c44e3981d332078480c5f8",
            "b5015bd80db94302a89c129a63bb0731",
            "95776b6bf0b4439a942ff6e168050405",
            "72064d1e305544dbaa82601675571ffa",
            "4fe20d24a9fe4fa58251710375fa5f6b",
            "bbd5b6e176a744a1b2566af2fae23970",
            "d027311e75f64b3f9147bc683870cda2",
            "6b23092465d74c81af33c4a33d5a03e5",
            "f17c1142ccaf4f3b8230c774b908a9f8",
            "5c3275bfa85143dd84395bcb135db44d",
            "30970cb521e5473ea8a6b54da47fa66b",
            "c4a2af14e5da4c5a8cff7c8375b7d020",
            "defc097f55784ec0ac830a225f9b077e",
            "5b8735998ce5437facf1ca02ccc40e20",
            "a731afb612e54e7caac4553ae19aa9e7",
            "ad2d88c17a994e199b4e876c45e873e5",
            "faba77a3b60948ce94bc3ec96821e019",
            "c0add242c22e46cca6a497ca3ae06960",
            "15e206458ccc443c9dd3340160abf1de",
            "0481c4b241564bbf91f7084e68775bf0",
            "4ffa441ea9bf4bc99cb46733bed45e9d",
            "18b8af82ad2a49119d8a72f6e979da76",
            "a4063422d3104fd8ab77628f4f4e6038",
            "9698bae45a624f06b293c41361cc7dd9",
            "f0addd48e05a4e4993b9a42a9e69f414",
            "f3ea67d8535043d797a363dd0b07fcc2",
            "282b51a95d95472bb14de620e3613ec7",
            "7f4446d511a14c999761586a0b7fcf4f",
            "70b6a7d993fa4d41a70903be3c0e5b05",
            "529bae94cbdf403283d6012796c268b0",
            "5e481a62f42949c0b7a25c66826e91f0",
            "835245a26c1f459495f6556dc605b52b",
            "4857d287528f455398b534cf8102acad",
            "b599507f230341a195d38b23e4f4d6fa",
            "5fe2b8830b7e4dfb95fb38bd4041e526",
            "fb7a9c69d8b3481a8dcace49067999ce",
            "24565cbde9334f12b2cfe8e5e96b07b1",
            "9a4af3ca7e0f4a89b96841ba7f28ac11",
            "bac6d6166ad44efbb1592fee4ce3715e",
            "53aa23fd361c4707a83edd249b8bf8f9",
            "96e7851c002c4b0f8a0adb6679381e09",
            "69e9afdd868b46c78902d2a2ddc2f4cb",
            "88d7715cba0c4689aa3df53138ff4202",
            "5811122cc1244d74898fd2d8ffea5041",
            "b46c372f1df640f5ac69634badbed3fd",
            "f5bf8f1d4e204759b86e84d25fa75674",
            "0fd875ec85ce4ccca54536a029d3bfc9",
            "84a840d0ab7546d9a62d65529e85debe",
            "4baaf621ff9c4a049baa069502c7cb16",
            "d936d7bd21a540a8b1991c96ae35d7f9",
            "b7ee42180b87400cba00ca52e473d923",
            "2bc258a3a25a4afa99b2c64fef80da52",
            "986cb65733b148fe88c755993dc83e3c",
            "f93bb874cc234367bc8bfc7725385bd6",
            "56ee1a4c0f414889ad294fd50a7d5cd4",
            "d410b55f8d654bc38af7bd1ff84e6657",
            "91ffd74640e642e899fbe52877e253d3",
            "1599968c229c47b4a89e7e7cf2374f6b"
          ]
        },
        "id": "azwXX-AEIGKx",
        "outputId": "6f7b438d-e1ba-49e4-b490-3dba46f4a6b6"
      },
      "outputs": [
        {
          "name": "stdout",
          "output_type": "stream",
          "text": [
            "trying learning rate 9.999999974752427e-07\n"
          ]
        },
        {
          "data": {
            "application/vnd.jupyter.widget-view+json": {
              "model_id": "5ffb691e4d094c9ba58089bcccf50891",
              "version_major": 2,
              "version_minor": 0
            },
            "text/plain": [
              "  0%|          | 0/5 [00:00<?, ?it/s]"
            ]
          },
          "metadata": {},
          "output_type": "display_data"
        },
        {
          "name": "stdout",
          "output_type": "stream",
          "text": [
            "trying learning rate 0.011112000793218613\n"
          ]
        },
        {
          "data": {
            "application/vnd.jupyter.widget-view+json": {
              "model_id": "4f561b6d984a4d94b00b7a279f8bdb5d",
              "version_major": 2,
              "version_minor": 0
            },
            "text/plain": [
              "  0%|          | 0/5 [00:00<?, ?it/s]"
            ]
          },
          "metadata": {},
          "output_type": "display_data"
        },
        {
          "name": "stdout",
          "output_type": "stream",
          "text": [
            "trying learning rate 0.02222300134599209\n"
          ]
        },
        {
          "data": {
            "application/vnd.jupyter.widget-view+json": {
              "model_id": "ecf4d37169db4ac89b361c15b3238d13",
              "version_major": 2,
              "version_minor": 0
            },
            "text/plain": [
              "  0%|          | 0/5 [00:00<?, ?it/s]"
            ]
          },
          "metadata": {},
          "output_type": "display_data"
        },
        {
          "name": "stdout",
          "output_type": "stream",
          "text": [
            "trying learning rate 0.033334001898765564\n"
          ]
        },
        {
          "data": {
            "application/vnd.jupyter.widget-view+json": {
              "model_id": "299e891212794db395288ec678253731",
              "version_major": 2,
              "version_minor": 0
            },
            "text/plain": [
              "  0%|          | 0/5 [00:00<?, ?it/s]"
            ]
          },
          "metadata": {},
          "output_type": "display_data"
        },
        {
          "name": "stdout",
          "output_type": "stream",
          "text": [
            "trying learning rate 0.04444500058889389\n"
          ]
        },
        {
          "data": {
            "application/vnd.jupyter.widget-view+json": {
              "model_id": "2288a31f703b4bbda0ba7aa7f7d37065",
              "version_major": 2,
              "version_minor": 0
            },
            "text/plain": [
              "  0%|          | 0/5 [00:00<?, ?it/s]"
            ]
          },
          "metadata": {},
          "output_type": "display_data"
        },
        {
          "name": "stdout",
          "output_type": "stream",
          "text": [
            "trying learning rate 0.05555599927902222\n"
          ]
        },
        {
          "data": {
            "application/vnd.jupyter.widget-view+json": {
              "model_id": "72064d1e305544dbaa82601675571ffa",
              "version_major": 2,
              "version_minor": 0
            },
            "text/plain": [
              "  0%|          | 0/5 [00:00<?, ?it/s]"
            ]
          },
          "metadata": {},
          "output_type": "display_data"
        },
        {
          "name": "stdout",
          "output_type": "stream",
          "text": [
            "trying learning rate 0.06666699796915054\n"
          ]
        },
        {
          "data": {
            "application/vnd.jupyter.widget-view+json": {
              "model_id": "a731afb612e54e7caac4553ae19aa9e7",
              "version_major": 2,
              "version_minor": 0
            },
            "text/plain": [
              "  0%|          | 0/5 [00:00<?, ?it/s]"
            ]
          },
          "metadata": {},
          "output_type": "display_data"
        },
        {
          "name": "stdout",
          "output_type": "stream",
          "text": [
            "trying learning rate 0.07777799665927887\n"
          ]
        },
        {
          "data": {
            "application/vnd.jupyter.widget-view+json": {
              "model_id": "f3ea67d8535043d797a363dd0b07fcc2",
              "version_major": 2,
              "version_minor": 0
            },
            "text/plain": [
              "  0%|          | 0/5 [00:00<?, ?it/s]"
            ]
          },
          "metadata": {},
          "output_type": "display_data"
        },
        {
          "name": "stdout",
          "output_type": "stream",
          "text": [
            "trying learning rate 0.08888900279998779\n"
          ]
        },
        {
          "data": {
            "application/vnd.jupyter.widget-view+json": {
              "model_id": "24565cbde9334f12b2cfe8e5e96b07b1",
              "version_major": 2,
              "version_minor": 0
            },
            "text/plain": [
              "  0%|          | 0/5 [00:00<?, ?it/s]"
            ]
          },
          "metadata": {},
          "output_type": "display_data"
        },
        {
          "name": "stdout",
          "output_type": "stream",
          "text": [
            "trying learning rate 0.10000000149011612\n"
          ]
        },
        {
          "data": {
            "application/vnd.jupyter.widget-view+json": {
              "model_id": "84a840d0ab7546d9a62d65529e85debe",
              "version_major": 2,
              "version_minor": 0
            },
            "text/plain": [
              "  0%|          | 0/5 [00:00<?, ?it/s]"
            ]
          },
          "metadata": {},
          "output_type": "display_data"
        }
      ],
      "source": [
        "best_lr = parameter_search(train_loader, val_loader, linear_model)"
      ]
    },
    {
      "cell_type": "code",
      "execution_count": null,
      "metadata": {
        "id": "oDzs8UtJSqsT"
      },
      "outputs": [],
      "source": [
        "model = linear_model()\n",
        "optimizer = SGD(model.parameters(), best_lr)"
      ]
    },
    {
      "cell_type": "code",
      "execution_count": null,
      "metadata": {
        "colab": {
          "base_uri": "https://localhost:8080/",
          "height": 49,
          "referenced_widgets": [
            "f09c75269102476eaf5d861b0125f51c",
            "3e2452359ad54fb9b046421e3821413c",
            "34690fa35ca4454695311040803b4727",
            "db3fd1c070cc48b3b1ce0bcad2361df5",
            "5d87a9b22ee0491f847ca5c922e1bb29",
            "1060db719aab4b5a92957a27337a2c50",
            "916e66f95b9d46978e821f853ae370af",
            "12b5acf0ed5146e0aeb3f84fa0e75870",
            "ab5bd3c40de6468498f99086ac3849b7",
            "12441f785cd74782afcb3d1481249a44",
            "d42c8136b4cb46c1ad12ac6dcde8cda1"
          ]
        },
        "id": "_tk07LfkIPgS",
        "outputId": "6995065b-50e6-4cca-e71a-6cf4e33a33ed"
      },
      "outputs": [
        {
          "data": {
            "application/vnd.jupyter.widget-view+json": {
              "model_id": "f09c75269102476eaf5d861b0125f51c",
              "version_major": 2,
              "version_minor": 0
            },
            "text/plain": [
              "  0%|          | 0/20 [00:00<?, ?it/s]"
            ]
          },
          "metadata": {},
          "output_type": "display_data"
        }
      ],
      "source": [
        "# We are using 20 epochs for this example. You may have to use more.\n",
        "train_loss, train_accuracy, val_loss, val_accuracy = train(\n",
        "    model, optimizer, train_loader, val_loader, 20)"
      ]
    },
    {
      "cell_type": "markdown",
      "metadata": {
        "id": "MSi0cEADDJcf"
      },
      "source": [
        "5. We can also plot the training and validation accuracy for each epoch."
      ]
    },
    {
      "cell_type": "code",
      "execution_count": null,
      "metadata": {
        "colab": {
          "base_uri": "https://localhost:8080/",
          "height": 472
        },
        "id": "-i_KVlY3WthL",
        "outputId": "39e0132d-3c4b-4bd7-ade5-497b076e9033"
      },
      "outputs": [
        {
          "data": {
            "image/png": "[encoded data removed]",
            "text/plain": [
              "<Figure size 640x480 with 1 Axes>"
            ]
          },
          "metadata": {},
          "output_type": "display_data"
        }
      ],
      "source": [
        "epochs = range(1, 21)\n",
        "plt.plot(epochs, train_accuracy, label=\"Train Accuracy\")\n",
        "plt.plot(epochs, val_accuracy, label=\"Validation Accuracy\")\n",
        "plt.xlabel(\"Epoch\")\n",
        "plt.ylabel(\"Accuracy\")\n",
        "plt.legend()\n",
        "plt.title(\"Logistic Regression Accuracy for CIFAR-10 vs Epoch\")\n",
        "plt.show()"
      ]
    },
    {
      "cell_type": "markdown",
      "metadata": {
        "id": "zu8AaNRl4FDi"
      },
      "source": [
        "The last thing we have to do is evaluate our model on the testing data."
      ]
    },
    {
      "cell_type": "code",
      "execution_count": null,
      "metadata": {
        "id": "KzxYGlYH4MwC"
      },
      "outputs": [],
      "source": [
        "def evaluate(\n",
        "    model: nn.Module, loader: DataLoader\n",
        ") -> Tuple[float, float]:\n",
        "    \"\"\"Computes test loss and accuracy of model on loader.\"\"\"\n",
        "    loss = nn.CrossEntropyLoss()\n",
        "    model.eval()\n",
        "    test_loss = 0.0\n",
        "    test_acc = 0.0\n",
        "    with torch.no_grad():\n",
        "        for (batch, labels) in loader:\n",
        "            batch, labels = batch.to(DEVICE), labels.to(DEVICE)\n",
        "            y_batch_pred = model(batch)\n",
        "            batch_loss = loss(y_batch_pred, labels)\n",
        "            test_loss = test_loss + batch_loss.item()\n",
        "\n",
        "            pred_max = torch.argmax(y_batch_pred, 1)\n",
        "            batch_acc = torch.sum(pred_max == labels)\n",
        "            test_acc = test_acc + batch_acc.item()\n",
        "        test_loss = test_loss / len(loader)\n",
        "        test_acc = test_acc / (batch_size * len(loader))\n",
        "        return test_loss, test_acc"
      ]
    },
    {
      "cell_type": "code",
      "execution_count": null,
      "metadata": {
        "colab": {
          "base_uri": "https://localhost:8080/"
        },
        "id": "ekfbYD_34XFB",
        "outputId": "edc55666-c6f3-42b6-ccdf-e7bccf017c8e"
      },
      "outputs": [
        {
          "name": "stdout",
          "output_type": "stream",
          "text": [
            "Test Accuracy: 0.3660007911392405\n"
          ]
        }
      ],
      "source": [
        "test_loss, test_acc = evaluate(model, test_loader)\n",
        "print(f\"Test Accuracy: {test_acc}\")"
      ]
    },
    {
      "cell_type": "markdown",
      "metadata": {
        "id": "OK-KuYt41uFA"
      },
      "source": [
        "The rest is yours to code. You can structure the code any way you would like.\n",
        "\n",
        "We do advise making using code cells and functions (train, search, predict etc.) for each subproblem, since they will make your code easier to debug.\n",
        "\n",
        "Also note that several of the functions above can be reused for the various different models you will implement for this problem; i.e., you won't need to write a new `evaluate()`."
      ]
    },
    {
      "cell_type": "markdown",
      "metadata": {
        "id": "5hj2sVietEeV"
      },
      "source": [
        "## Your Turn!"
      ]
    },
    {
      "cell_type": "markdown",
      "metadata": {
        "id": "ZhZaoP4EtH8p"
      },
      "source": [
        "The rest is yours to code. You are welcome to structure the code any way you would like.\n",
        "\n",
        "We do advise making using code cells and functions (train, search, predict etc.) for each subproblem, since they will make your code easier to debug.\n",
        "\n",
        "Also note that several of the functions above can be reused for the various different models you will implement for this problem; i.e., you won't need to write a new `evaluate()`. Before you reuse functions though, make sure they are compatible with what the assignment is asking for."
      ]
    },
    {
      "cell_type": "markdown",
      "metadata": {
        "id": "DFSY86U-tjM-"
      },
      "source": [
        "### Submitting Code"
      ]
    },
    {
      "cell_type": "markdown",
      "metadata": {
        "id": "y6M8Bz5itpBw"
      },
      "source": [
        "And as a last reminder, once you are done with the problem, make sure to put all of your necessary figures into your PDF submission. Then, download this notebook as a Python file (`.py`) by going to **File -> Download -> Download `.py`**. Rename this file as `hw4-a3.py` and upload to the Gradescope submission for HW4 code."
      ]
    },
    {
      "cell_type": "markdown",
      "metadata": {
        "id": "f7R1b5vWdk_w"
      },
      "source": [
        "Part A!"
      ]
    },
    {
      "cell_type": "code",
      "execution_count": null,
      "metadata": {
        "id": "0rb6lGyttwQM"
      },
      "outputs": [],
      "source": [
        "def parta_model(m: int) -> nn.Module:\n",
        "    \"\"\"Instantiate a linear model and send it to device.\"\"\"\n",
        "    model =  nn.Sequential(\n",
        "            nn.Flatten(),\n",
        "            nn.Linear(3072, m),\n",
        "            nn.ReLU(),\n",
        "            nn.Linear(m, 10)\n",
        "         )\n",
        "    return model.to(DEVICE)"
      ]
    },
    {
      "cell_type": "code",
      "execution_count": null,
      "metadata": {
        "id": "bOATk1s8epgp"
      },
      "outputs": [],
      "source": [
        "def parta_parameter_search(train_loader: DataLoader,\n",
        "                           val_loader: DataLoader,\n",
        "                           model_fn: Callable[[int], torch.nn.Module]) -> Tuple[List[Tuple[float, float]], dict]:\n",
        "    \"\"\"\n",
        "    Perform hyperparameter search for learning rate and hidden layer size.\n",
        "    Stores and returns the top 3 configurations with the lowest validation loss.\n",
        "\n",
        "    Args:\n",
        "    train_loader: The training dataloader.\n",
        "    val_loader: The validation dataloader.\n",
        "    model_fn: A function that returns a torch.nn.Module when called.\n",
        "\n",
        "    Returns:\n",
        "    A list of the top 3 configurations (learning rate, m) with the lowest validation loss.\n",
        "    Also returns the stored accuracy results for plotting.\n",
        "    \"\"\"\n",
        "\n",
        "    ms = [100, 400, 600, 950]\n",
        "    # narrowed it down to the following learning rates from all of my previous training attempts,\n",
        "    # and made it this to save time while training. previously, i tried starting at 10 ** (-6)\n",
        "    # and 10 iterations.\n",
        "    lrs = torch.linspace(10 ** (-2), 5 ** (-1), 5)\n",
        "\n",
        "    top_configs = []\n",
        "\n",
        "    accuracy_results = {}\n",
        "\n",
        "    for lr in lrs:\n",
        "        for m in ms:\n",
        "            print(f\"Trying lr={lr:.6f}, m={m}\")\n",
        "            model = model_fn(m)\n",
        "            optim = SGD(model.parameters(), lr=lr)\n",
        "            train_loss, train_acc, val_loss, val_acc = train_a(\n",
        "                model,\n",
        "                optim,\n",
        "                train_loader,\n",
        "                val_loader\n",
        "            )\n",
        "\n",
        "            min_val_loss = min(val_loss)\n",
        "            print(f\"val_acc={max(val_acc):.4f}\")\n",
        "\n",
        "            accuracy_results[(lr, m)] = {\n",
        "                \"train_acc\": train_acc,\n",
        "                \"val_acc\": val_acc\n",
        "            }\n",
        "\n",
        "            # add to the list and keep only the top 3 lowest validation loss configurations\n",
        "            top_configs.append((min_val_loss, lr, m))\n",
        "            top_configs.sort()\n",
        "            top_configs = top_configs[:3]\n",
        "\n",
        "    print(\"top 3 configurations (lowest validation loss):\")\n",
        "    for loss, lr, m in top_configs:\n",
        "        print(f\"lr={lr:.6f}, m={m}, val_loss={loss:.4f}\")\n",
        "\n",
        "\n",
        "    plt.figure(figsize=(10, 6))\n",
        "    for loss, lr, m in top_configs:\n",
        "        acc_results = accuracy_results[(lr, m)]\n",
        "        plt.plot(acc_results[\"train_acc\"], label=f\"Train Acc (lr={lr:.6f}, m={m})\")\n",
        "        plt.plot(acc_results[\"val_acc\"], label=f\"Val Acc (lr={lr:.6f}, m={m})\", linestyle=\"dashed\")\n",
        "\n",
        "    plt.xlabel(\"Epochs\")\n",
        "    plt.ylabel(\"Accuracy\")\n",
        "    plt.title(\"Training and Validation Accuracy for Top 3 Configurations\")\n",
        "    plt.legend()\n",
        "    plt.grid(True)\n",
        "    plt.show()\n",
        "\n",
        "    best_loss, best_lr, best_m = top_configs[0]\n",
        "    return best_lr, best_m"
      ]
    },
    {
      "cell_type": "code",
      "execution_count": null,
      "metadata": {
        "colab": {
          "base_uri": "https://localhost:8080/",
          "height": 1000
        },
        "id": "n323ZOrjj3gN",
        "outputId": "13de942d-30a6-4eb1-f0af-76e3e8ab3e7d"
      },
      "outputs": [
        {
          "output_type": "stream",
          "name": "stdout",
          "text": [
            "Trying lr=0.010000, m=100\n",
            "val_acc=0.4363\n",
            "Trying lr=0.010000, m=400\n",
            "val_acc=0.4373\n",
            "Trying lr=0.010000, m=600\n",
            "val_acc=0.4490\n",
            "Trying lr=0.010000, m=950\n",
            "val_acc=0.4543\n",
            "Trying lr=0.057500, m=100\n",
            "val_acc=0.4891\n",
            "Trying lr=0.057500, m=400\n",
            "val_acc=0.4830\n",
            "Trying lr=0.057500, m=600\n",
            "val_acc=0.4805\n",
            "Trying lr=0.057500, m=950\n",
            "val_acc=0.4877\n",
            "Trying lr=0.105000, m=100\n",
            "val_acc=0.4723\n",
            "Trying lr=0.105000, m=400\n",
            "val_acc=0.4752\n",
            "Trying lr=0.105000, m=600\n",
            "val_acc=0.5018\n",
            "Trying lr=0.105000, m=950\n",
            "val_acc=0.4873\n",
            "Trying lr=0.152500, m=100\n",
            "val_acc=0.4398\n",
            "Trying lr=0.152500, m=400\n",
            "val_acc=0.4689\n",
            "Trying lr=0.152500, m=600\n",
            "val_acc=0.4672\n",
            "Trying lr=0.152500, m=950\n",
            "val_acc=0.4914\n",
            "Trying lr=0.200000, m=100\n",
            "val_acc=0.4021\n",
            "Trying lr=0.200000, m=400\n",
            "val_acc=0.4346\n",
            "Trying lr=0.200000, m=600\n",
            "val_acc=0.4160\n",
            "Trying lr=0.200000, m=950\n",
            "val_acc=0.4400\n",
            "top 3 configurations (lowest validation loss):\n",
            "lr=0.105000, m=600, val_loss=1.3999\n",
            "lr=0.057500, m=950, val_loss=1.4237\n",
            "lr=0.057500, m=600, val_loss=1.4460\n"
          ]
        },
        {
          "output_type": "display_data",
          "data": {
            "text/plain": [
              "<Figure size 1000x600 with 1 Axes>"
            ],
            "image/png": "[encoded data removed]"
          },
          "metadata": {}
        }
      ],
      "source": [
        "best_lr, best_m = parta_parameter_search(train_loader, val_loader, parta_model)"
      ]
    },
    {
      "cell_type": "code",
      "execution_count": null,
      "metadata": {
        "id": "CBX6SicAiEdd"
      },
      "outputs": [],
      "source": [
        "def partb_model(m, k, n) -> nn.Module:\n",
        "    \"\"\"Instantiate a linear model and send it to device.\"\"\"\n",
        "    model =  nn.Sequential(\n",
        "            nn.Conv2d(3, m, k),\n",
        "            nn.ReLU(),\n",
        "            nn.MaxPool2d(n),\n",
        "            nn.Flatten(),\n",
        "            nn.Linear(m * int((33 - k)/n) ** 2, 10)\n",
        "         )\n",
        "    return model.to(DEVICE)"
      ]
    },
    {
      "cell_type": "code",
      "source": [
        "def partb_parameter_search(train_loader: DataLoader,\n",
        "                           val_loader: DataLoader,\n",
        "                           model_fn: Callable[[int, int, int], torch.nn.Module]) -> Tuple[float, int, int, int]:\n",
        "    \"\"\"\n",
        "    Perform hyperparameter search for learning rate, hidden layer size (m), kernel size (k), and pooling size (n).\n",
        "    Randomly samples values close to the best-known hyperparameters and stops early if validation accuracy ≥ 65%.\n",
        "\n",
        "    Args:\n",
        "    train_loader: The training dataloader.\n",
        "    val_loader: The validation dataloader.\n",
        "    model_fn: A function that returns a torch.nn.Module when called.\n",
        "\n",
        "    Returns:\n",
        "    The best learning rate, m, k, and n that achieved the lowest validation loss.\n",
        "    \"\"\"\n",
        "\n",
        "    top_configs = []\n",
        "    accuracy_results = {}\n",
        "\n",
        "    attempts = 0\n",
        "\n",
        "    reached_65 = False\n",
        "\n",
        "    while attempts < 3 or not reached_65:\n",
        "        attempts += 1\n",
        "\n",
        "        # these hyperparameters have been narrowed down after multiple rounds attempted training\n",
        "        m = int(np.clip(np.random.normal(350, 25), 300, 400)) # i've previously checked between 100 and 500\n",
        "        k = int(np.clip(np.random.normal(5, 1), 3, 7))\n",
        "        n = int(np.clip(np.random.normal(4, 1), 2, 6)) # i've previously checked up to 16\n",
        "        lr = np.random.choice([0.005, 0.05, 0.1]) # i've previously checked between 10 ** (-5) and 0.5\n",
        "\n",
        "        print(f\"trying lr={lr}, m={m}, k={k}, n={n}\")\n",
        "        model = model_fn(m, k, n)\n",
        "        optim = SGD(model.parameters(), lr=lr)\n",
        "\n",
        "        train_loss, train_acc, val_loss, val_acc = train_b(\n",
        "            model, optim, train_loader, val_loader\n",
        "        )\n",
        "\n",
        "        print(f\"val_acc={max(val_acc)}\")\n",
        "\n",
        "        if max(val_acc) >= 0.65:\n",
        "            reached_65 = True\n",
        "\n",
        "        accuracy_results[(lr, m, k, n)] = {\n",
        "            \"train_acc\": train_acc,\n",
        "            \"val_acc\": val_acc\n",
        "        }\n",
        "\n",
        "        top_configs.append((min(val_loss), max(val_acc), lr, m, k, n))\n",
        "        top_configs.sort()\n",
        "        top_configs = top_configs[:3]\n",
        "\n",
        "\n",
        "    print(\"top 3 configs:\")\n",
        "    for loss, acc, lr, m, k, n in top_configs:\n",
        "        print(f\"lr={lr}, m={m}, k={k}, n={n}, val_loss={loss}, val_acc={acc}\")\n",
        "\n",
        "    plt.figure(figsize=(10, 6))\n",
        "    for loss, acc, lr, m, k, n in top_configs:\n",
        "        acc_results = accuracy_results[(lr, m, k, n)]\n",
        "        plt.plot(acc_results[\"train_acc\"], label=f\"Train Acc (lr={lr}, m={m}, k={k}, n={n})\")\n",
        "        plt.plot(acc_results[\"val_acc\"], label=f\"Val Acc (lr={lr}, m={m}, k={k}, n={n})\", linestyle=\"dashed\")\n",
        "\n",
        "    plt.xlabel(\"Epochs\")\n",
        "    plt.ylabel(\"Accuracy\")\n",
        "    plt.title(\"Training and Validation Accuracy for Top 3 Configurations\")\n",
        "    plt.legend()\n",
        "    plt.grid(True)\n",
        "    plt.show()\n",
        "\n",
        "    _, _, best_lr, best_m, best_k, best_n = top_configs[0]\n",
        "    return best_lr, best_m, best_k, best_n\n"
      ],
      "metadata": {
        "id": "7Gw-vh8rRQHQ"
      },
      "execution_count": null,
      "outputs": []
    },
    {
      "cell_type": "code",
      "execution_count": null,
      "metadata": {
        "id": "HOV16j7QzrV6"
      },
      "outputs": [],
      "source": [
        "def train_a(\n",
        "    model: nn.Module, optimizer: SGD,\n",
        "    train_loader: DataLoader, val_loader: DataLoader\n",
        "    )-> Tuple[List[float], List[float], List[float], List[float]]:\n",
        "    \"\"\"\n",
        "    Trains a model for the specified number of epochs using the loaders.\n",
        "\n",
        "    Returns:\n",
        "    Lists of training loss, training accuracy, validation loss, validation accuracy for each epoch.\n",
        "    \"\"\"\n",
        "\n",
        "    loss = nn.CrossEntropyLoss()\n",
        "    train_losses = []\n",
        "    train_accuracies = []\n",
        "    val_losses = []\n",
        "    val_accuracies = []\n",
        "    accuracy = 0\n",
        "    epochs = 0\n",
        "    while accuracy < 0.5 and epochs < 20:\n",
        "        epochs += 1\n",
        "        model.train()\n",
        "        train_loss = 0.0\n",
        "        train_acc = 0.0\n",
        "\n",
        "        # Main training loop; iterate over train_loader. The loop\n",
        "        # terminates when the train loader finishes iterating, which is one epoch.\n",
        "        for (x_batch, labels) in train_loader:\n",
        "            x_batch, labels = x_batch.to(DEVICE), labels.to(DEVICE)\n",
        "            optimizer.zero_grad()\n",
        "            labels_pred = model(x_batch)\n",
        "            batch_loss = loss(labels_pred, labels)\n",
        "            train_loss = train_loss + batch_loss.item()\n",
        "\n",
        "            labels_pred_max = torch.argmax(labels_pred, 1)\n",
        "            batch_acc = torch.sum(labels_pred_max == labels)\n",
        "            train_acc = train_acc + batch_acc.item()\n",
        "\n",
        "            batch_loss.backward()\n",
        "            optimizer.step()\n",
        "        train_losses.append(train_loss / len(train_loader))\n",
        "        train_accuracies.append(train_acc / (batch_size * len(train_loader)))\n",
        "\n",
        "        # Validation loop; use .no_grad() context manager to save memory.\n",
        "        model.eval()\n",
        "        val_loss = 0.0\n",
        "        val_acc = 0.0\n",
        "\n",
        "        with torch.no_grad():\n",
        "            for (v_batch, labels) in val_loader:\n",
        "                v_batch, labels = v_batch.to(DEVICE), labels.to(DEVICE)\n",
        "                labels_pred = model(v_batch)\n",
        "                v_batch_loss = loss(labels_pred, labels)\n",
        "                val_loss = val_loss + v_batch_loss.item()\n",
        "\n",
        "                v_pred_max = torch.argmax(labels_pred, 1)\n",
        "                batch_acc = torch.sum(v_pred_max == labels)\n",
        "                val_acc = val_acc + batch_acc.item()\n",
        "            val_losses.append(val_loss / len(val_loader))\n",
        "            val_accuracies.append(val_acc / (batch_size * len(val_loader)))\n",
        "\n",
        "        accuracy = val_accuracies[-1]\n",
        "\n",
        "    return train_losses, train_accuracies, val_losses, val_accuracies\n"
      ]
    },
    {
      "cell_type": "code",
      "execution_count": null,
      "metadata": {
        "id": "P4ijbpJzz7Ct",
        "colab": {
          "base_uri": "https://localhost:8080/",
          "height": 814
        },
        "outputId": "7fa7fef2-d141-4a6e-fdb0-dbae5fd7bdc1"
      },
      "outputs": [
        {
          "output_type": "stream",
          "name": "stdout",
          "text": [
            "trying lr=0.1, m=374, k=3, n=2\n",
            "val_acc=0.6466796875\n",
            "trying lr=0.005, m=345, k=5, n=4\n",
            "val_acc=0.54609375\n",
            "trying lr=0.05, m=350, k=6, n=3\n",
            "val_acc=0.6466796875\n",
            "trying lr=0.05, m=313, k=4, n=6\n",
            "val_acc=0.608984375\n",
            "trying lr=0.1, m=344, k=5, n=4\n",
            "val_acc=0.6525390625\n",
            "top 3 configs:\n",
            "lr=0.1, m=344, k=5, n=4, val_loss=0.9737230747938156, val_acc=0.6525390625\n",
            "lr=0.05, m=350, k=6, n=3, val_loss=0.9877581968903542, val_acc=0.6466796875\n",
            "lr=0.1, m=374, k=3, n=2, val_loss=1.002008168399334, val_acc=0.6466796875\n"
          ]
        },
        {
          "output_type": "display_data",
          "data": {
            "text/plain": [
              "<Figure size 1000x600 with 1 Axes>"
            ],
            "image/png": "[encoded data removed]"
          },
          "metadata": {}
        }
      ],
      "source": [
        "best_lr, best_m, best_k, best_n = partb_parameter_search(train_loader, val_loader, partb_model)"
      ]
    },
    {
      "cell_type": "code",
      "source": [
        "def train_b(\n",
        "    model: nn.Module, optimizer: SGD,\n",
        "    train_loader: DataLoader, val_loader: DataLoader\n",
        "    )-> Tuple[List[float], List[float], List[float], List[float]]:\n",
        "    \"\"\"\n",
        "    Trains a model for the specified number of epochs using the loaders.\n",
        "\n",
        "    Returns:\n",
        "    Lists of training loss, training accuracy, validation loss, validation accuracy for each epoch.\n",
        "    \"\"\"\n",
        "\n",
        "    loss = nn.CrossEntropyLoss()\n",
        "    train_losses = []\n",
        "    train_accuracies = []\n",
        "    val_losses = []\n",
        "    val_accuracies = []\n",
        "    accuracy = 0\n",
        "    epochs = 0\n",
        "    while accuracy < 0.65 and epochs < 20:\n",
        "        epochs += 1\n",
        "        model.train()\n",
        "        train_loss = 0.0\n",
        "        train_acc = 0.0\n",
        "\n",
        "        # Main training loop; iterate over train_loader. The loop\n",
        "        # terminates when the train loader finishes iterating, which is one epoch.\n",
        "        for (x_batch, labels) in train_loader:\n",
        "            x_batch, labels = x_batch.to(DEVICE), labels.to(DEVICE)\n",
        "            optimizer.zero_grad()\n",
        "            labels_pred = model(x_batch)\n",
        "            batch_loss = loss(labels_pred, labels)\n",
        "            train_loss = train_loss + batch_loss.item()\n",
        "\n",
        "            labels_pred_max = torch.argmax(labels_pred, 1)\n",
        "            batch_acc = torch.sum(labels_pred_max == labels)\n",
        "            train_acc = train_acc + batch_acc.item()\n",
        "\n",
        "            batch_loss.backward()\n",
        "            optimizer.step()\n",
        "        train_losses.append(train_loss / len(train_loader))\n",
        "        train_accuracies.append(train_acc / (batch_size * len(train_loader)))\n",
        "\n",
        "        # Validation loop; use .no_grad() context manager to save memory.\n",
        "        model.eval()\n",
        "        val_loss = 0.0\n",
        "        val_acc = 0.0\n",
        "\n",
        "        with torch.no_grad():\n",
        "            for (v_batch, labels) in val_loader:\n",
        "                v_batch, labels = v_batch.to(DEVICE), labels.to(DEVICE)\n",
        "                labels_pred = model(v_batch)\n",
        "                v_batch_loss = loss(labels_pred, labels)\n",
        "                val_loss = val_loss + v_batch_loss.item()\n",
        "\n",
        "                v_pred_max = torch.argmax(labels_pred, 1)\n",
        "                batch_acc = torch.sum(v_pred_max == labels)\n",
        "                val_acc = val_acc + batch_acc.item()\n",
        "            val_losses.append(val_loss / len(val_loader))\n",
        "            val_accuracies.append(val_acc / (batch_size * len(val_loader)))\n",
        "\n",
        "        accuracy = val_accuracies[-1]\n",
        "\n",
        "    return train_losses, train_accuracies, val_losses, val_accuracies"
      ],
      "metadata": {
        "id": "HMjYFlH6xK6c"
      },
      "execution_count": null,
      "outputs": []
    }
  ],
  "metadata": {
    "accelerator": "GPU",
    "colab": {
      "gpuType": "T4",
      "provenance": []
    },
    "kernelspec": {
      "display_name": "Python 3",
      "name": "python3"
    },
    "language_info": {
      "codemirror_mode": {
        "name": "ipython",
        "version": 3
      },
      "file_extension": ".py",
      "mimetype": "text/x-python",
      "name": "python",
      "nbconvert_exporter": "python",
      "pygments_lexer": "ipython3",
      "version": "3.8.10"
    },
    "varInspector": {
      "cols": {
        "lenName": 16,
        "lenType": 16,
        "lenVar": 40
      },
      "kernels_config": {
        "python": {
          "delete_cmd_postfix": "",
          "delete_cmd_prefix": "del ",
          "library": "var_list.py",
          "varRefreshCmd": "print(var_dic_list())"
        },
        "r": {
          "delete_cmd_postfix": ") ",
          "delete_cmd_prefix": "rm(",
          "library": "var_list.r",
          "varRefreshCmd": "cat(var_dic_list()) "
        }
      },
      "types_to_exclude": [
        "module",
        "function",
        "builtin_function_or_method",
        "instance",
        "_Feature"
      ],
      "window_display": false
    },
    "vscode": {
      "interpreter": {
        "hash": "bf814fda1cc440ac317e22279a1ec33d1b20faeecc9ea242b28923e33d4f784d"
      }
    },
    "widgets": {
      "application/vnd.jupyter.widget-state+json": {
        "0481c4b241564bbf91f7084e68775bf0": {
          "model_module": "@jupyter-widgets/base",
          "model_module_version": "1.2.0",
          "model_name": "LayoutModel",
          "state": {
            "_model_module": "@jupyter-widgets/base",
            "_model_module_version": "1.2.0",
            "_model_name": "LayoutModel",
            "_view_count": null,
            "_view_module": "@jupyter-widgets/base",
            "_view_module_version": "1.2.0",
            "_view_name": "LayoutView",
            "align_content": null,
            "align_items": null,
            "align_self": null,
            "border": null,
            "bottom": null,
            "display": null,
            "flex": null,
            "flex_flow": null,
            "grid_area": null,
            "grid_auto_columns": null,
            "grid_auto_flow": null,
            "grid_auto_rows": null,
            "grid_column": null,
            "grid_gap": null,
            "grid_row": null,
            "grid_template_areas": null,
            "grid_template_columns": null,
            "grid_template_rows": null,
            "height": null,
            "justify_content": null,
            "justify_items": null,
            "left": null,
            "margin": null,
            "max_height": null,
            "max_width": null,
            "min_height": null,
            "min_width": null,
            "object_fit": null,
            "object_position": null,
            "order": null,
            "overflow": null,
            "overflow_x": null,
            "overflow_y": null,
            "padding": null,
            "right": null,
            "top": null,
            "visibility": null,
            "width": null
          }
        },
        "08bc9087149643658cbecc5d2a82fca0": {
          "model_module": "@jupyter-widgets/controls",
          "model_module_version": "1.5.0",
          "model_name": "DescriptionStyleModel",
          "state": {
            "_model_module": "@jupyter-widgets/controls",
            "_model_module_version": "1.5.0",
            "_model_name": "DescriptionStyleModel",
            "_view_count": null,
            "_view_module": "@jupyter-widgets/base",
            "_view_module_version": "1.2.0",
            "_view_name": "StyleView",
            "description_width": ""
          }
        },
        "0bd079819a064721a3530592570a89b2": {
          "model_module": "@jupyter-widgets/base",
          "model_module_version": "1.2.0",
          "model_name": "LayoutModel",
          "state": {
            "_model_module": "@jupyter-widgets/base",
            "_model_module_version": "1.2.0",
            "_model_name": "LayoutModel",
            "_view_count": null,
            "_view_module": "@jupyter-widgets/base",
            "_view_module_version": "1.2.0",
            "_view_name": "LayoutView",
            "align_content": null,
            "align_items": null,
            "align_self": null,
            "border": null,
            "bottom": null,
            "display": null,
            "flex": null,
            "flex_flow": null,
            "grid_area": null,
            "grid_auto_columns": null,
            "grid_auto_flow": null,
            "grid_auto_rows": null,
            "grid_column": null,
            "grid_gap": null,
            "grid_row": null,
            "grid_template_areas": null,
            "grid_template_columns": null,
            "grid_template_rows": null,
            "height": null,
            "justify_content": null,
            "justify_items": null,
            "left": null,
            "margin": null,
            "max_height": null,
            "max_width": null,
            "min_height": null,
            "min_width": null,
            "object_fit": null,
            "object_position": null,
            "order": null,
            "overflow": null,
            "overflow_x": null,
            "overflow_y": null,
            "padding": null,
            "right": null,
            "top": null,
            "visibility": null,
            "width": null
          }
        },
        "0d676e2f74c44e3981d332078480c5f8": {
          "model_module": "@jupyter-widgets/controls",
          "model_module_version": "1.5.0",
          "model_name": "ProgressStyleModel",
          "state": {
            "_model_module": "@jupyter-widgets/controls",
            "_model_module_version": "1.5.0",
            "_model_name": "ProgressStyleModel",
            "_view_count": null,
            "_view_module": "@jupyter-widgets/base",
            "_view_module_version": "1.2.0",
            "_view_name": "StyleView",
            "bar_color": null,
            "description_width": ""
          }
        },
        "0fd875ec85ce4ccca54536a029d3bfc9": {
          "model_module": "@jupyter-widgets/controls",
          "model_module_version": "1.5.0",
          "model_name": "DescriptionStyleModel",
          "state": {
            "_model_module": "@jupyter-widgets/controls",
            "_model_module_version": "1.5.0",
            "_model_name": "DescriptionStyleModel",
            "_view_count": null,
            "_view_module": "@jupyter-widgets/base",
            "_view_module_version": "1.2.0",
            "_view_name": "StyleView",
            "description_width": ""
          }
        },
        "1060db719aab4b5a92957a27337a2c50": {
          "model_module": "@jupyter-widgets/base",
          "model_module_version": "1.2.0",
          "model_name": "LayoutModel",
          "state": {
            "_model_module": "@jupyter-widgets/base",
            "_model_module_version": "1.2.0",
            "_model_name": "LayoutModel",
            "_view_count": null,
            "_view_module": "@jupyter-widgets/base",
            "_view_module_version": "1.2.0",
            "_view_name": "LayoutView",
            "align_content": null,
            "align_items": null,
            "align_self": null,
            "border": null,
            "bottom": null,
            "display": null,
            "flex": null,
            "flex_flow": null,
            "grid_area": null,
            "grid_auto_columns": null,
            "grid_auto_flow": null,
            "grid_auto_rows": null,
            "grid_column": null,
            "grid_gap": null,
            "grid_row": null,
            "grid_template_areas": null,
            "grid_template_columns": null,
            "grid_template_rows": null,
            "height": null,
            "justify_content": null,
            "justify_items": null,
            "left": null,
            "margin": null,
            "max_height": null,
            "max_width": null,
            "min_height": null,
            "min_width": null,
            "object_fit": null,
            "object_position": null,
            "order": null,
            "overflow": null,
            "overflow_x": null,
            "overflow_y": null,
            "padding": null,
            "right": null,
            "top": null,
            "visibility": null,
            "width": null
          }
        },
        "11b58a749e3c408588c463d1896aab9b": {
          "model_module": "@jupyter-widgets/base",
          "model_module_version": "1.2.0",
          "model_name": "LayoutModel",
          "state": {
            "_model_module": "@jupyter-widgets/base",
            "_model_module_version": "1.2.0",
            "_model_name": "LayoutModel",
            "_view_count": null,
            "_view_module": "@jupyter-widgets/base",
            "_view_module_version": "1.2.0",
            "_view_name": "LayoutView",
            "align_content": null,
            "align_items": null,
            "align_self": null,
            "border": null,
            "bottom": null,
            "display": null,
            "flex": null,
            "flex_flow": null,
            "grid_area": null,
            "grid_auto_columns": null,
            "grid_auto_flow": null,
            "grid_auto_rows": null,
            "grid_column": null,
            "grid_gap": null,
            "grid_row": null,
            "grid_template_areas": null,
            "grid_template_columns": null,
            "grid_template_rows": null,
            "height": null,
            "justify_content": null,
            "justify_items": null,
            "left": null,
            "margin": null,
            "max_height": null,
            "max_width": null,
            "min_height": null,
            "min_width": null,
            "object_fit": null,
            "object_position": null,
            "order": null,
            "overflow": null,
            "overflow_x": null,
            "overflow_y": null,
            "padding": null,
            "right": null,
            "top": null,
            "visibility": null,
            "width": null
          }
        },
        "12441f785cd74782afcb3d1481249a44": {
          "model_module": "@jupyter-widgets/base",
          "model_module_version": "1.2.0",
          "model_name": "LayoutModel",
          "state": {
            "_model_module": "@jupyter-widgets/base",
            "_model_module_version": "1.2.0",
            "_model_name": "LayoutModel",
            "_view_count": null,
            "_view_module": "@jupyter-widgets/base",
            "_view_module_version": "1.2.0",
            "_view_name": "LayoutView",
            "align_content": null,
            "align_items": null,
            "align_self": null,
            "border": null,
            "bottom": null,
            "display": null,
            "flex": null,
            "flex_flow": null,
            "grid_area": null,
            "grid_auto_columns": null,
            "grid_auto_flow": null,
            "grid_auto_rows": null,
            "grid_column": null,
            "grid_gap": null,
            "grid_row": null,
            "grid_template_areas": null,
            "grid_template_columns": null,
            "grid_template_rows": null,
            "height": null,
            "justify_content": null,
            "justify_items": null,
            "left": null,
            "margin": null,
            "max_height": null,
            "max_width": null,
            "min_height": null,
            "min_width": null,
            "object_fit": null,
            "object_position": null,
            "order": null,
            "overflow": null,
            "overflow_x": null,
            "overflow_y": null,
            "padding": null,
            "right": null,
            "top": null,
            "visibility": null,
            "width": null
          }
        },
        "12b5acf0ed5146e0aeb3f84fa0e75870": {
          "model_module": "@jupyter-widgets/base",
          "model_module_version": "1.2.0",
          "model_name": "LayoutModel",
          "state": {
            "_model_module": "@jupyter-widgets/base",
            "_model_module_version": "1.2.0",
            "_model_name": "LayoutModel",
            "_view_count": null,
            "_view_module": "@jupyter-widgets/base",
            "_view_module_version": "1.2.0",
            "_view_name": "LayoutView",
            "align_content": null,
            "align_items": null,
            "align_self": null,
            "border": null,
            "bottom": null,
            "display": null,
            "flex": null,
            "flex_flow": null,
            "grid_area": null,
            "grid_auto_columns": null,
            "grid_auto_flow": null,
            "grid_auto_rows": null,
            "grid_column": null,
            "grid_gap": null,
            "grid_row": null,
            "grid_template_areas": null,
            "grid_template_columns": null,
            "grid_template_rows": null,
            "height": null,
            "justify_content": null,
            "justify_items": null,
            "left": null,
            "margin": null,
            "max_height": null,
            "max_width": null,
            "min_height": null,
            "min_width": null,
            "object_fit": null,
            "object_position": null,
            "order": null,
            "overflow": null,
            "overflow_x": null,
            "overflow_y": null,
            "padding": null,
            "right": null,
            "top": null,
            "visibility": null,
            "width": null
          }
        },
        "1599968c229c47b4a89e7e7cf2374f6b": {
          "model_module": "@jupyter-widgets/controls",
          "model_module_version": "1.5.0",
          "model_name": "DescriptionStyleModel",
          "state": {
            "_model_module": "@jupyter-widgets/controls",
            "_model_module_version": "1.5.0",
            "_model_name": "DescriptionStyleModel",
            "_view_count": null,
            "_view_module": "@jupyter-widgets/base",
            "_view_module_version": "1.2.0",
            "_view_name": "StyleView",
            "description_width": ""
          }
        },
        "15e206458ccc443c9dd3340160abf1de": {
          "model_module": "@jupyter-widgets/base",
          "model_module_version": "1.2.0",
          "model_name": "LayoutModel",
          "state": {
            "_model_module": "@jupyter-widgets/base",
            "_model_module_version": "1.2.0",
            "_model_name": "LayoutModel",
            "_view_count": null,
            "_view_module": "@jupyter-widgets/base",
            "_view_module_version": "1.2.0",
            "_view_name": "LayoutView",
            "align_content": null,
            "align_items": null,
            "align_self": null,
            "border": null,
            "bottom": null,
            "display": null,
            "flex": null,
            "flex_flow": null,
            "grid_area": null,
            "grid_auto_columns": null,
            "grid_auto_flow": null,
            "grid_auto_rows": null,
            "grid_column": null,
            "grid_gap": null,
            "grid_row": null,
            "grid_template_areas": null,
            "grid_template_columns": null,
            "grid_template_rows": null,
            "height": null,
            "justify_content": null,
            "justify_items": null,
            "left": null,
            "margin": null,
            "max_height": null,
            "max_width": null,
            "min_height": null,
            "min_width": null,
            "object_fit": null,
            "object_position": null,
            "order": null,
            "overflow": null,
            "overflow_x": null,
            "overflow_y": null,
            "padding": null,
            "right": null,
            "top": null,
            "visibility": null,
            "width": null
          }
        },
        "18b8af82ad2a49119d8a72f6e979da76": {
          "model_module": "@jupyter-widgets/base",
          "model_module_version": "1.2.0",
          "model_name": "LayoutModel",
          "state": {
            "_model_module": "@jupyter-widgets/base",
            "_model_module_version": "1.2.0",
            "_model_name": "LayoutModel",
            "_view_count": null,
            "_view_module": "@jupyter-widgets/base",
            "_view_module_version": "1.2.0",
            "_view_name": "LayoutView",
            "align_content": null,
            "align_items": null,
            "align_self": null,
            "border": null,
            "bottom": null,
            "display": null,
            "flex": null,
            "flex_flow": null,
            "grid_area": null,
            "grid_auto_columns": null,
            "grid_auto_flow": null,
            "grid_auto_rows": null,
            "grid_column": null,
            "grid_gap": null,
            "grid_row": null,
            "grid_template_areas": null,
            "grid_template_columns": null,
            "grid_template_rows": null,
            "height": null,
            "justify_content": null,
            "justify_items": null,
            "left": null,
            "margin": null,
            "max_height": null,
            "max_width": null,
            "min_height": null,
            "min_width": null,
            "object_fit": null,
            "object_position": null,
            "order": null,
            "overflow": null,
            "overflow_x": null,
            "overflow_y": null,
            "padding": null,
            "right": null,
            "top": null,
            "visibility": null,
            "width": null
          }
        },
        "19a1cd6947154870a8284fb69588b371": {
          "model_module": "@jupyter-widgets/controls",
          "model_module_version": "1.5.0",
          "model_name": "FloatProgressModel",
          "state": {
            "_dom_classes": [],
            "_model_module": "@jupyter-widgets/controls",
            "_model_module_version": "1.5.0",
            "_model_name": "FloatProgressModel",
            "_view_count": null,
            "_view_module": "@jupyter-widgets/controls",
            "_view_module_version": "1.5.0",
            "_view_name": "ProgressView",
            "bar_style": "success",
            "description": "",
            "description_tooltip": null,
            "layout": "IPY_MODEL_1b1349cef5e34b0f854f93e342f83995",
            "max": 5,
            "min": 0,
            "orientation": "horizontal",
            "style": "IPY_MODEL_0d676e2f74c44e3981d332078480c5f8",
            "value": 5
          }
        },
        "1abc0d34334541838c09f46222313429": {
          "model_module": "@jupyter-widgets/controls",
          "model_module_version": "1.5.0",
          "model_name": "ProgressStyleModel",
          "state": {
            "_model_module": "@jupyter-widgets/controls",
            "_model_module_version": "1.5.0",
            "_model_name": "ProgressStyleModel",
            "_view_count": null,
            "_view_module": "@jupyter-widgets/base",
            "_view_module_version": "1.2.0",
            "_view_name": "StyleView",
            "bar_color": null,
            "description_width": ""
          }
        },
        "1b1349cef5e34b0f854f93e342f83995": {
          "model_module": "@jupyter-widgets/base",
          "model_module_version": "1.2.0",
          "model_name": "LayoutModel",
          "state": {
            "_model_module": "@jupyter-widgets/base",
            "_model_module_version": "1.2.0",
            "_model_name": "LayoutModel",
            "_view_count": null,
            "_view_module": "@jupyter-widgets/base",
            "_view_module_version": "1.2.0",
            "_view_name": "LayoutView",
            "align_content": null,
            "align_items": null,
            "align_self": null,
            "border": null,
            "bottom": null,
            "display": null,
            "flex": null,
            "flex_flow": null,
            "grid_area": null,
            "grid_auto_columns": null,
            "grid_auto_flow": null,
            "grid_auto_rows": null,
            "grid_column": null,
            "grid_gap": null,
            "grid_row": null,
            "grid_template_areas": null,
            "grid_template_columns": null,
            "grid_template_rows": null,
            "height": null,
            "justify_content": null,
            "justify_items": null,
            "left": null,
            "margin": null,
            "max_height": null,
            "max_width": null,
            "min_height": null,
            "min_width": null,
            "object_fit": null,
            "object_position": null,
            "order": null,
            "overflow": null,
            "overflow_x": null,
            "overflow_y": null,
            "padding": null,
            "right": null,
            "top": null,
            "visibility": null,
            "width": null
          }
        },
        "1c115ceab9d54240bc654bf21d967cf5": {
          "model_module": "@jupyter-widgets/base",
          "model_module_version": "1.2.0",
          "model_name": "LayoutModel",
          "state": {
            "_model_module": "@jupyter-widgets/base",
            "_model_module_version": "1.2.0",
            "_model_name": "LayoutModel",
            "_view_count": null,
            "_view_module": "@jupyter-widgets/base",
            "_view_module_version": "1.2.0",
            "_view_name": "LayoutView",
            "align_content": null,
            "align_items": null,
            "align_self": null,
            "border": null,
            "bottom": null,
            "display": null,
            "flex": null,
            "flex_flow": null,
            "grid_area": null,
            "grid_auto_columns": null,
            "grid_auto_flow": null,
            "grid_auto_rows": null,
            "grid_column": null,
            "grid_gap": null,
            "grid_row": null,
            "grid_template_areas": null,
            "grid_template_columns": null,
            "grid_template_rows": null,
            "height": null,
            "justify_content": null,
            "justify_items": null,
            "left": null,
            "margin": null,
            "max_height": null,
            "max_width": null,
            "min_height": null,
            "min_width": null,
            "object_fit": null,
            "object_position": null,
            "order": null,
            "overflow": null,
            "overflow_x": null,
            "overflow_y": null,
            "padding": null,
            "right": null,
            "top": null,
            "visibility": null,
            "width": null
          }
        },
        "2288a31f703b4bbda0ba7aa7f7d37065": {
          "model_module": "@jupyter-widgets/controls",
          "model_module_version": "1.5.0",
          "model_name": "HBoxModel",
          "state": {
            "_dom_classes": [],
            "_model_module": "@jupyter-widgets/controls",
            "_model_module_version": "1.5.0",
            "_model_name": "HBoxModel",
            "_view_count": null,
            "_view_module": "@jupyter-widgets/controls",
            "_view_module_version": "1.5.0",
            "_view_name": "HBoxView",
            "box_style": "",
            "children": [
              "IPY_MODEL_c5fd5579e35247b9bee8758f35dd30e0",
              "IPY_MODEL_19a1cd6947154870a8284fb69588b371",
              "IPY_MODEL_f388a576e41a4755abb59ec62bef27ac"
            ],
            "layout": "IPY_MODEL_1c115ceab9d54240bc654bf21d967cf5"
          }
        },
        "2288a8b80b304bb7b6c273a50794b126": {
          "model_module": "@jupyter-widgets/base",
          "model_module_version": "1.2.0",
          "model_name": "LayoutModel",
          "state": {
            "_model_module": "@jupyter-widgets/base",
            "_model_module_version": "1.2.0",
            "_model_name": "LayoutModel",
            "_view_count": null,
            "_view_module": "@jupyter-widgets/base",
            "_view_module_version": "1.2.0",
            "_view_name": "LayoutView",
            "align_content": null,
            "align_items": null,
            "align_self": null,
            "border": null,
            "bottom": null,
            "display": null,
            "flex": null,
            "flex_flow": null,
            "grid_area": null,
            "grid_auto_columns": null,
            "grid_auto_flow": null,
            "grid_auto_rows": null,
            "grid_column": null,
            "grid_gap": null,
            "grid_row": null,
            "grid_template_areas": null,
            "grid_template_columns": null,
            "grid_template_rows": null,
            "height": null,
            "justify_content": null,
            "justify_items": null,
            "left": null,
            "margin": null,
            "max_height": null,
            "max_width": null,
            "min_height": null,
            "min_width": null,
            "object_fit": null,
            "object_position": null,
            "order": null,
            "overflow": null,
            "overflow_x": null,
            "overflow_y": null,
            "padding": null,
            "right": null,
            "top": null,
            "visibility": null,
            "width": null
          }
        },
        "24565cbde9334f12b2cfe8e5e96b07b1": {
          "model_module": "@jupyter-widgets/controls",
          "model_module_version": "1.5.0",
          "model_name": "HBoxModel",
          "state": {
            "_dom_classes": [],
            "_model_module": "@jupyter-widgets/controls",
            "_model_module_version": "1.5.0",
            "_model_name": "HBoxModel",
            "_view_count": null,
            "_view_module": "@jupyter-widgets/controls",
            "_view_module_version": "1.5.0",
            "_view_name": "HBoxView",
            "box_style": "",
            "children": [
              "IPY_MODEL_9a4af3ca7e0f4a89b96841ba7f28ac11",
              "IPY_MODEL_bac6d6166ad44efbb1592fee4ce3715e",
              "IPY_MODEL_53aa23fd361c4707a83edd249b8bf8f9"
            ],
            "layout": "IPY_MODEL_96e7851c002c4b0f8a0adb6679381e09"
          }
        },
        "282b51a95d95472bb14de620e3613ec7": {
          "model_module": "@jupyter-widgets/controls",
          "model_module_version": "1.5.0",
          "model_name": "HTMLModel",
          "state": {
            "_dom_classes": [],
            "_model_module": "@jupyter-widgets/controls",
            "_model_module_version": "1.5.0",
            "_model_name": "HTMLModel",
            "_view_count": null,
            "_view_module": "@jupyter-widgets/controls",
            "_view_module_version": "1.5.0",
            "_view_name": "HTMLView",
            "description": "",
            "description_tooltip": null,
            "layout": "IPY_MODEL_5e481a62f42949c0b7a25c66826e91f0",
            "placeholder": "​",
            "style": "IPY_MODEL_835245a26c1f459495f6556dc605b52b",
            "value": "100%"
          }
        },
        "299e891212794db395288ec678253731": {
          "model_module": "@jupyter-widgets/controls",
          "model_module_version": "1.5.0",
          "model_name": "HBoxModel",
          "state": {
            "_dom_classes": [],
            "_model_module": "@jupyter-widgets/controls",
            "_model_module_version": "1.5.0",
            "_model_name": "HBoxModel",
            "_view_count": null,
            "_view_module": "@jupyter-widgets/controls",
            "_view_module_version": "1.5.0",
            "_view_name": "HBoxView",
            "box_style": "",
            "children": [
              "IPY_MODEL_fe9a298f117b43959ed575df99d8735f",
              "IPY_MODEL_352ef1e281864259b2586efa2c7b2f1a",
              "IPY_MODEL_d6a2f96bf0144b0490d1bf3ec9d5524d"
            ],
            "layout": "IPY_MODEL_718d37cfccdc4807abb3b6cf0cc5a773"
          }
        },
        "2bc258a3a25a4afa99b2c64fef80da52": {
          "model_module": "@jupyter-widgets/base",
          "model_module_version": "1.2.0",
          "model_name": "LayoutModel",
          "state": {
            "_model_module": "@jupyter-widgets/base",
            "_model_module_version": "1.2.0",
            "_model_name": "LayoutModel",
            "_view_count": null,
            "_view_module": "@jupyter-widgets/base",
            "_view_module_version": "1.2.0",
            "_view_name": "LayoutView",
            "align_content": null,
            "align_items": null,
            "align_self": null,
            "border": null,
            "bottom": null,
            "display": null,
            "flex": null,
            "flex_flow": null,
            "grid_area": null,
            "grid_auto_columns": null,
            "grid_auto_flow": null,
            "grid_auto_rows": null,
            "grid_column": null,
            "grid_gap": null,
            "grid_row": null,
            "grid_template_areas": null,
            "grid_template_columns": null,
            "grid_template_rows": null,
            "height": null,
            "justify_content": null,
            "justify_items": null,
            "left": null,
            "margin": null,
            "max_height": null,
            "max_width": null,
            "min_height": null,
            "min_width": null,
            "object_fit": null,
            "object_position": null,
            "order": null,
            "overflow": null,
            "overflow_x": null,
            "overflow_y": null,
            "padding": null,
            "right": null,
            "top": null,
            "visibility": null,
            "width": null
          }
        },
        "30970cb521e5473ea8a6b54da47fa66b": {
          "model_module": "@jupyter-widgets/base",
          "model_module_version": "1.2.0",
          "model_name": "LayoutModel",
          "state": {
            "_model_module": "@jupyter-widgets/base",
            "_model_module_version": "1.2.0",
            "_model_name": "LayoutModel",
            "_view_count": null,
            "_view_module": "@jupyter-widgets/base",
            "_view_module_version": "1.2.0",
            "_view_name": "LayoutView",
            "align_content": null,
            "align_items": null,
            "align_self": null,
            "border": null,
            "bottom": null,
            "display": null,
            "flex": null,
            "flex_flow": null,
            "grid_area": null,
            "grid_auto_columns": null,
            "grid_auto_flow": null,
            "grid_auto_rows": null,
            "grid_column": null,
            "grid_gap": null,
            "grid_row": null,
            "grid_template_areas": null,
            "grid_template_columns": null,
            "grid_template_rows": null,
            "height": null,
            "justify_content": null,
            "justify_items": null,
            "left": null,
            "margin": null,
            "max_height": null,
            "max_width": null,
            "min_height": null,
            "min_width": null,
            "object_fit": null,
            "object_position": null,
            "order": null,
            "overflow": null,
            "overflow_x": null,
            "overflow_y": null,
            "padding": null,
            "right": null,
            "top": null,
            "visibility": null,
            "width": null
          }
        },
        "34690fa35ca4454695311040803b4727": {
          "model_module": "@jupyter-widgets/controls",
          "model_module_version": "1.5.0",
          "model_name": "FloatProgressModel",
          "state": {
            "_dom_classes": [],
            "_model_module": "@jupyter-widgets/controls",
            "_model_module_version": "1.5.0",
            "_model_name": "FloatProgressModel",
            "_view_count": null,
            "_view_module": "@jupyter-widgets/controls",
            "_view_module_version": "1.5.0",
            "_view_name": "ProgressView",
            "bar_style": "success",
            "description": "",
            "description_tooltip": null,
            "layout": "IPY_MODEL_12b5acf0ed5146e0aeb3f84fa0e75870",
            "max": 20,
            "min": 0,
            "orientation": "horizontal",
            "style": "IPY_MODEL_ab5bd3c40de6468498f99086ac3849b7",
            "value": 20
          }
        },
        "352ef1e281864259b2586efa2c7b2f1a": {
          "model_module": "@jupyter-widgets/controls",
          "model_module_version": "1.5.0",
          "model_name": "FloatProgressModel",
          "state": {
            "_dom_classes": [],
            "_model_module": "@jupyter-widgets/controls",
            "_model_module_version": "1.5.0",
            "_model_name": "FloatProgressModel",
            "_view_count": null,
            "_view_module": "@jupyter-widgets/controls",
            "_view_module_version": "1.5.0",
            "_view_name": "ProgressView",
            "bar_style": "success",
            "description": "",
            "description_tooltip": null,
            "layout": "IPY_MODEL_aaa2c9b5fd954933be126133850cb49b",
            "max": 5,
            "min": 0,
            "orientation": "horizontal",
            "style": "IPY_MODEL_75fe55d37cc540ee99a46645dc2645d0",
            "value": 5
          }
        },
        "3718e1f80c3b493e889b9ed95f10acd1": {
          "model_module": "@jupyter-widgets/base",
          "model_module_version": "1.2.0",
          "model_name": "LayoutModel",
          "state": {
            "_model_module": "@jupyter-widgets/base",
            "_model_module_version": "1.2.0",
            "_model_name": "LayoutModel",
            "_view_count": null,
            "_view_module": "@jupyter-widgets/base",
            "_view_module_version": "1.2.0",
            "_view_name": "LayoutView",
            "align_content": null,
            "align_items": null,
            "align_self": null,
            "border": null,
            "bottom": null,
            "display": null,
            "flex": null,
            "flex_flow": null,
            "grid_area": null,
            "grid_auto_columns": null,
            "grid_auto_flow": null,
            "grid_auto_rows": null,
            "grid_column": null,
            "grid_gap": null,
            "grid_row": null,
            "grid_template_areas": null,
            "grid_template_columns": null,
            "grid_template_rows": null,
            "height": null,
            "justify_content": null,
            "justify_items": null,
            "left": null,
            "margin": null,
            "max_height": null,
            "max_width": null,
            "min_height": null,
            "min_width": null,
            "object_fit": null,
            "object_position": null,
            "order": null,
            "overflow": null,
            "overflow_x": null,
            "overflow_y": null,
            "padding": null,
            "right": null,
            "top": null,
            "visibility": null,
            "width": null
          }
        },
        "389367cb58764843be767f261690f78b": {
          "model_module": "@jupyter-widgets/base",
          "model_module_version": "1.2.0",
          "model_name": "LayoutModel",
          "state": {
            "_model_module": "@jupyter-widgets/base",
            "_model_module_version": "1.2.0",
            "_model_name": "LayoutModel",
            "_view_count": null,
            "_view_module": "@jupyter-widgets/base",
            "_view_module_version": "1.2.0",
            "_view_name": "LayoutView",
            "align_content": null,
            "align_items": null,
            "align_self": null,
            "border": null,
            "bottom": null,
            "display": null,
            "flex": null,
            "flex_flow": null,
            "grid_area": null,
            "grid_auto_columns": null,
            "grid_auto_flow": null,
            "grid_auto_rows": null,
            "grid_column": null,
            "grid_gap": null,
            "grid_row": null,
            "grid_template_areas": null,
            "grid_template_columns": null,
            "grid_template_rows": null,
            "height": null,
            "justify_content": null,
            "justify_items": null,
            "left": null,
            "margin": null,
            "max_height": null,
            "max_width": null,
            "min_height": null,
            "min_width": null,
            "object_fit": null,
            "object_position": null,
            "order": null,
            "overflow": null,
            "overflow_x": null,
            "overflow_y": null,
            "padding": null,
            "right": null,
            "top": null,
            "visibility": null,
            "width": null
          }
        },
        "3e2452359ad54fb9b046421e3821413c": {
          "model_module": "@jupyter-widgets/controls",
          "model_module_version": "1.5.0",
          "model_name": "HTMLModel",
          "state": {
            "_dom_classes": [],
            "_model_module": "@jupyter-widgets/controls",
            "_model_module_version": "1.5.0",
            "_model_name": "HTMLModel",
            "_view_count": null,
            "_view_module": "@jupyter-widgets/controls",
            "_view_module_version": "1.5.0",
            "_view_name": "HTMLView",
            "description": "",
            "description_tooltip": null,
            "layout": "IPY_MODEL_1060db719aab4b5a92957a27337a2c50",
            "placeholder": "​",
            "style": "IPY_MODEL_916e66f95b9d46978e821f853ae370af",
            "value": "100%"
          }
        },
        "408f1a2e0d814e589048600a597496f2": {
          "model_module": "@jupyter-widgets/controls",
          "model_module_version": "1.5.0",
          "model_name": "DescriptionStyleModel",
          "state": {
            "_model_module": "@jupyter-widgets/controls",
            "_model_module_version": "1.5.0",
            "_model_name": "DescriptionStyleModel",
            "_view_count": null,
            "_view_module": "@jupyter-widgets/base",
            "_view_module_version": "1.2.0",
            "_view_name": "StyleView",
            "description_width": ""
          }
        },
        "436c3a2ba8804f4999327cc3d3a9a7f2": {
          "model_module": "@jupyter-widgets/base",
          "model_module_version": "1.2.0",
          "model_name": "LayoutModel",
          "state": {
            "_model_module": "@jupyter-widgets/base",
            "_model_module_version": "1.2.0",
            "_model_name": "LayoutModel",
            "_view_count": null,
            "_view_module": "@jupyter-widgets/base",
            "_view_module_version": "1.2.0",
            "_view_name": "LayoutView",
            "align_content": null,
            "align_items": null,
            "align_self": null,
            "border": null,
            "bottom": null,
            "display": null,
            "flex": null,
            "flex_flow": null,
            "grid_area": null,
            "grid_auto_columns": null,
            "grid_auto_flow": null,
            "grid_auto_rows": null,
            "grid_column": null,
            "grid_gap": null,
            "grid_row": null,
            "grid_template_areas": null,
            "grid_template_columns": null,
            "grid_template_rows": null,
            "height": null,
            "justify_content": null,
            "justify_items": null,
            "left": null,
            "margin": null,
            "max_height": null,
            "max_width": null,
            "min_height": null,
            "min_width": null,
            "object_fit": null,
            "object_position": null,
            "order": null,
            "overflow": null,
            "overflow_x": null,
            "overflow_y": null,
            "padding": null,
            "right": null,
            "top": null,
            "visibility": null,
            "width": null
          }
        },
        "4857d287528f455398b534cf8102acad": {
          "model_module": "@jupyter-widgets/base",
          "model_module_version": "1.2.0",
          "model_name": "LayoutModel",
          "state": {
            "_model_module": "@jupyter-widgets/base",
            "_model_module_version": "1.2.0",
            "_model_name": "LayoutModel",
            "_view_count": null,
            "_view_module": "@jupyter-widgets/base",
            "_view_module_version": "1.2.0",
            "_view_name": "LayoutView",
            "align_content": null,
            "align_items": null,
            "align_self": null,
            "border": null,
            "bottom": null,
            "display": null,
            "flex": null,
            "flex_flow": null,
            "grid_area": null,
            "grid_auto_columns": null,
            "grid_auto_flow": null,
            "grid_auto_rows": null,
            "grid_column": null,
            "grid_gap": null,
            "grid_row": null,
            "grid_template_areas": null,
            "grid_template_columns": null,
            "grid_template_rows": null,
            "height": null,
            "justify_content": null,
            "justify_items": null,
            "left": null,
            "margin": null,
            "max_height": null,
            "max_width": null,
            "min_height": null,
            "min_width": null,
            "object_fit": null,
            "object_position": null,
            "order": null,
            "overflow": null,
            "overflow_x": null,
            "overflow_y": null,
            "padding": null,
            "right": null,
            "top": null,
            "visibility": null,
            "width": null
          }
        },
        "4baaf621ff9c4a049baa069502c7cb16": {
          "model_module": "@jupyter-widgets/controls",
          "model_module_version": "1.5.0",
          "model_name": "HTMLModel",
          "state": {
            "_dom_classes": [],
            "_model_module": "@jupyter-widgets/controls",
            "_model_module_version": "1.5.0",
            "_model_name": "HTMLModel",
            "_view_count": null,
            "_view_module": "@jupyter-widgets/controls",
            "_view_module_version": "1.5.0",
            "_view_name": "HTMLView",
            "description": "",
            "description_tooltip": null,
            "layout": "IPY_MODEL_986cb65733b148fe88c755993dc83e3c",
            "placeholder": "​",
            "style": "IPY_MODEL_f93bb874cc234367bc8bfc7725385bd6",
            "value": "100%"
          }
        },
        "4f561b6d984a4d94b00b7a279f8bdb5d": {
          "model_module": "@jupyter-widgets/controls",
          "model_module_version": "1.5.0",
          "model_name": "HBoxModel",
          "state": {
            "_dom_classes": [],
            "_model_module": "@jupyter-widgets/controls",
            "_model_module_version": "1.5.0",
            "_model_name": "HBoxModel",
            "_view_count": null,
            "_view_module": "@jupyter-widgets/controls",
            "_view_module_version": "1.5.0",
            "_view_name": "HBoxView",
            "box_style": "",
            "children": [
              "IPY_MODEL_bf6a2d64d6ee456085e89d2ada331938",
              "IPY_MODEL_6c809a9f5ac04c8582950fd92d3ec3d9",
              "IPY_MODEL_aabbea56d1ee44aba6d729c53eb66e44"
            ],
            "layout": "IPY_MODEL_93b49b783b5b4ef6b622652505eec8a1"
          }
        },
        "4fb6a08661714559acd3e5186761ef41": {
          "model_module": "@jupyter-widgets/controls",
          "model_module_version": "1.5.0",
          "model_name": "FloatProgressModel",
          "state": {
            "_dom_classes": [],
            "_model_module": "@jupyter-widgets/controls",
            "_model_module_version": "1.5.0",
            "_model_name": "FloatProgressModel",
            "_view_count": null,
            "_view_module": "@jupyter-widgets/controls",
            "_view_module_version": "1.5.0",
            "_view_name": "ProgressView",
            "bar_style": "success",
            "description": "",
            "description_tooltip": null,
            "layout": "IPY_MODEL_ea30c4866d9d42d5bbd96090c6409012",
            "max": 5,
            "min": 0,
            "orientation": "horizontal",
            "style": "IPY_MODEL_6eb84fcf1d8c4c81bb28768bcb913486",
            "value": 5
          }
        },
        "4fe20d24a9fe4fa58251710375fa5f6b": {
          "model_module": "@jupyter-widgets/controls",
          "model_module_version": "1.5.0",
          "model_name": "HTMLModel",
          "state": {
            "_dom_classes": [],
            "_model_module": "@jupyter-widgets/controls",
            "_model_module_version": "1.5.0",
            "_model_name": "HTMLModel",
            "_view_count": null,
            "_view_module": "@jupyter-widgets/controls",
            "_view_module_version": "1.5.0",
            "_view_name": "HTMLView",
            "description": "",
            "description_tooltip": null,
            "layout": "IPY_MODEL_f17c1142ccaf4f3b8230c774b908a9f8",
            "placeholder": "​",
            "style": "IPY_MODEL_5c3275bfa85143dd84395bcb135db44d",
            "value": "100%"
          }
        },
        "4ffa441ea9bf4bc99cb46733bed45e9d": {
          "model_module": "@jupyter-widgets/controls",
          "model_module_version": "1.5.0",
          "model_name": "DescriptionStyleModel",
          "state": {
            "_model_module": "@jupyter-widgets/controls",
            "_model_module_version": "1.5.0",
            "_model_name": "DescriptionStyleModel",
            "_view_count": null,
            "_view_module": "@jupyter-widgets/base",
            "_view_module_version": "1.2.0",
            "_view_name": "StyleView",
            "description_width": ""
          }
        },
        "5102578d016747dc84ab6dfa18125137": {
          "model_module": "@jupyter-widgets/base",
          "model_module_version": "1.2.0",
          "model_name": "LayoutModel",
          "state": {
            "_model_module": "@jupyter-widgets/base",
            "_model_module_version": "1.2.0",
            "_model_name": "LayoutModel",
            "_view_count": null,
            "_view_module": "@jupyter-widgets/base",
            "_view_module_version": "1.2.0",
            "_view_name": "LayoutView",
            "align_content": null,
            "align_items": null,
            "align_self": null,
            "border": null,
            "bottom": null,
            "display": null,
            "flex": null,
            "flex_flow": null,
            "grid_area": null,
            "grid_auto_columns": null,
            "grid_auto_flow": null,
            "grid_auto_rows": null,
            "grid_column": null,
            "grid_gap": null,
            "grid_row": null,
            "grid_template_areas": null,
            "grid_template_columns": null,
            "grid_template_rows": null,
            "height": null,
            "justify_content": null,
            "justify_items": null,
            "left": null,
            "margin": null,
            "max_height": null,
            "max_width": null,
            "min_height": null,
            "min_width": null,
            "object_fit": null,
            "object_position": null,
            "order": null,
            "overflow": null,
            "overflow_x": null,
            "overflow_y": null,
            "padding": null,
            "right": null,
            "top": null,
            "visibility": null,
            "width": null
          }
        },
        "529bae94cbdf403283d6012796c268b0": {
          "model_module": "@jupyter-widgets/base",
          "model_module_version": "1.2.0",
          "model_name": "LayoutModel",
          "state": {
            "_model_module": "@jupyter-widgets/base",
            "_model_module_version": "1.2.0",
            "_model_name": "LayoutModel",
            "_view_count": null,
            "_view_module": "@jupyter-widgets/base",
            "_view_module_version": "1.2.0",
            "_view_name": "LayoutView",
            "align_content": null,
            "align_items": null,
            "align_self": null,
            "border": null,
            "bottom": null,
            "display": null,
            "flex": null,
            "flex_flow": null,
            "grid_area": null,
            "grid_auto_columns": null,
            "grid_auto_flow": null,
            "grid_auto_rows": null,
            "grid_column": null,
            "grid_gap": null,
            "grid_row": null,
            "grid_template_areas": null,
            "grid_template_columns": null,
            "grid_template_rows": null,
            "height": null,
            "justify_content": null,
            "justify_items": null,
            "left": null,
            "margin": null,
            "max_height": null,
            "max_width": null,
            "min_height": null,
            "min_width": null,
            "object_fit": null,
            "object_position": null,
            "order": null,
            "overflow": null,
            "overflow_x": null,
            "overflow_y": null,
            "padding": null,
            "right": null,
            "top": null,
            "visibility": null,
            "width": null
          }
        },
        "53aa23fd361c4707a83edd249b8bf8f9": {
          "model_module": "@jupyter-widgets/controls",
          "model_module_version": "1.5.0",
          "model_name": "HTMLModel",
          "state": {
            "_dom_classes": [],
            "_model_module": "@jupyter-widgets/controls",
            "_model_module_version": "1.5.0",
            "_model_name": "HTMLModel",
            "_view_count": null,
            "_view_module": "@jupyter-widgets/controls",
            "_view_module_version": "1.5.0",
            "_view_name": "HTMLView",
            "description": "",
            "description_tooltip": null,
            "layout": "IPY_MODEL_f5bf8f1d4e204759b86e84d25fa75674",
            "placeholder": "​",
            "style": "IPY_MODEL_0fd875ec85ce4ccca54536a029d3bfc9",
            "value": " 5/5 [00:32&lt;00:00,  6.40s/it]"
          }
        },
        "55f41e42d4524371a2084fbaa0867b8b": {
          "model_module": "@jupyter-widgets/controls",
          "model_module_version": "1.5.0",
          "model_name": "DescriptionStyleModel",
          "state": {
            "_model_module": "@jupyter-widgets/controls",
            "_model_module_version": "1.5.0",
            "_model_name": "DescriptionStyleModel",
            "_view_count": null,
            "_view_module": "@jupyter-widgets/base",
            "_view_module_version": "1.2.0",
            "_view_name": "StyleView",
            "description_width": ""
          }
        },
        "56ee1a4c0f414889ad294fd50a7d5cd4": {
          "model_module": "@jupyter-widgets/base",
          "model_module_version": "1.2.0",
          "model_name": "LayoutModel",
          "state": {
            "_model_module": "@jupyter-widgets/base",
            "_model_module_version": "1.2.0",
            "_model_name": "LayoutModel",
            "_view_count": null,
            "_view_module": "@jupyter-widgets/base",
            "_view_module_version": "1.2.0",
            "_view_name": "LayoutView",
            "align_content": null,
            "align_items": null,
            "align_self": null,
            "border": null,
            "bottom": null,
            "display": null,
            "flex": null,
            "flex_flow": null,
            "grid_area": null,
            "grid_auto_columns": null,
            "grid_auto_flow": null,
            "grid_auto_rows": null,
            "grid_column": null,
            "grid_gap": null,
            "grid_row": null,
            "grid_template_areas": null,
            "grid_template_columns": null,
            "grid_template_rows": null,
            "height": null,
            "justify_content": null,
            "justify_items": null,
            "left": null,
            "margin": null,
            "max_height": null,
            "max_width": null,
            "min_height": null,
            "min_width": null,
            "object_fit": null,
            "object_position": null,
            "order": null,
            "overflow": null,
            "overflow_x": null,
            "overflow_y": null,
            "padding": null,
            "right": null,
            "top": null,
            "visibility": null,
            "width": null
          }
        },
        "5811122cc1244d74898fd2d8ffea5041": {
          "model_module": "@jupyter-widgets/base",
          "model_module_version": "1.2.0",
          "model_name": "LayoutModel",
          "state": {
            "_model_module": "@jupyter-widgets/base",
            "_model_module_version": "1.2.0",
            "_model_name": "LayoutModel",
            "_view_count": null,
            "_view_module": "@jupyter-widgets/base",
            "_view_module_version": "1.2.0",
            "_view_name": "LayoutView",
            "align_content": null,
            "align_items": null,
            "align_self": null,
            "border": null,
            "bottom": null,
            "display": null,
            "flex": null,
            "flex_flow": null,
            "grid_area": null,
            "grid_auto_columns": null,
            "grid_auto_flow": null,
            "grid_auto_rows": null,
            "grid_column": null,
            "grid_gap": null,
            "grid_row": null,
            "grid_template_areas": null,
            "grid_template_columns": null,
            "grid_template_rows": null,
            "height": null,
            "justify_content": null,
            "justify_items": null,
            "left": null,
            "margin": null,
            "max_height": null,
            "max_width": null,
            "min_height": null,
            "min_width": null,
            "object_fit": null,
            "object_position": null,
            "order": null,
            "overflow": null,
            "overflow_x": null,
            "overflow_y": null,
            "padding": null,
            "right": null,
            "top": null,
            "visibility": null,
            "width": null
          }
        },
        "5b8735998ce5437facf1ca02ccc40e20": {
          "model_module": "@jupyter-widgets/controls",
          "model_module_version": "1.5.0",
          "model_name": "DescriptionStyleModel",
          "state": {
            "_model_module": "@jupyter-widgets/controls",
            "_model_module_version": "1.5.0",
            "_model_name": "DescriptionStyleModel",
            "_view_count": null,
            "_view_module": "@jupyter-widgets/base",
            "_view_module_version": "1.2.0",
            "_view_name": "StyleView",
            "description_width": ""
          }
        },
        "5c3275bfa85143dd84395bcb135db44d": {
          "model_module": "@jupyter-widgets/controls",
          "model_module_version": "1.5.0",
          "model_name": "DescriptionStyleModel",
          "state": {
            "_model_module": "@jupyter-widgets/controls",
            "_model_module_version": "1.5.0",
            "_model_name": "DescriptionStyleModel",
            "_view_count": null,
            "_view_module": "@jupyter-widgets/base",
            "_view_module_version": "1.2.0",
            "_view_name": "StyleView",
            "description_width": ""
          }
        },
        "5d87a9b22ee0491f847ca5c922e1bb29": {
          "model_module": "@jupyter-widgets/base",
          "model_module_version": "1.2.0",
          "model_name": "LayoutModel",
          "state": {
            "_model_module": "@jupyter-widgets/base",
            "_model_module_version": "1.2.0",
            "_model_name": "LayoutModel",
            "_view_count": null,
            "_view_module": "@jupyter-widgets/base",
            "_view_module_version": "1.2.0",
            "_view_name": "LayoutView",
            "align_content": null,
            "align_items": null,
            "align_self": null,
            "border": null,
            "bottom": null,
            "display": null,
            "flex": null,
            "flex_flow": null,
            "grid_area": null,
            "grid_auto_columns": null,
            "grid_auto_flow": null,
            "grid_auto_rows": null,
            "grid_column": null,
            "grid_gap": null,
            "grid_row": null,
            "grid_template_areas": null,
            "grid_template_columns": null,
            "grid_template_rows": null,
            "height": null,
            "justify_content": null,
            "justify_items": null,
            "left": null,
            "margin": null,
            "max_height": null,
            "max_width": null,
            "min_height": null,
            "min_width": null,
            "object_fit": null,
            "object_position": null,
            "order": null,
            "overflow": null,
            "overflow_x": null,
            "overflow_y": null,
            "padding": null,
            "right": null,
            "top": null,
            "visibility": null,
            "width": null
          }
        },
        "5e481a62f42949c0b7a25c66826e91f0": {
          "model_module": "@jupyter-widgets/base",
          "model_module_version": "1.2.0",
          "model_name": "LayoutModel",
          "state": {
            "_model_module": "@jupyter-widgets/base",
            "_model_module_version": "1.2.0",
            "_model_name": "LayoutModel",
            "_view_count": null,
            "_view_module": "@jupyter-widgets/base",
            "_view_module_version": "1.2.0",
            "_view_name": "LayoutView",
            "align_content": null,
            "align_items": null,
            "align_self": null,
            "border": null,
            "bottom": null,
            "display": null,
            "flex": null,
            "flex_flow": null,
            "grid_area": null,
            "grid_auto_columns": null,
            "grid_auto_flow": null,
            "grid_auto_rows": null,
            "grid_column": null,
            "grid_gap": null,
            "grid_row": null,
            "grid_template_areas": null,
            "grid_template_columns": null,
            "grid_template_rows": null,
            "height": null,
            "justify_content": null,
            "justify_items": null,
            "left": null,
            "margin": null,
            "max_height": null,
            "max_width": null,
            "min_height": null,
            "min_width": null,
            "object_fit": null,
            "object_position": null,
            "order": null,
            "overflow": null,
            "overflow_x": null,
            "overflow_y": null,
            "padding": null,
            "right": null,
            "top": null,
            "visibility": null,
            "width": null
          }
        },
        "5fe2b8830b7e4dfb95fb38bd4041e526": {
          "model_module": "@jupyter-widgets/base",
          "model_module_version": "1.2.0",
          "model_name": "LayoutModel",
          "state": {
            "_model_module": "@jupyter-widgets/base",
            "_model_module_version": "1.2.0",
            "_model_name": "LayoutModel",
            "_view_count": null,
            "_view_module": "@jupyter-widgets/base",
            "_view_module_version": "1.2.0",
            "_view_name": "LayoutView",
            "align_content": null,
            "align_items": null,
            "align_self": null,
            "border": null,
            "bottom": null,
            "display": null,
            "flex": null,
            "flex_flow": null,
            "grid_area": null,
            "grid_auto_columns": null,
            "grid_auto_flow": null,
            "grid_auto_rows": null,
            "grid_column": null,
            "grid_gap": null,
            "grid_row": null,
            "grid_template_areas": null,
            "grid_template_columns": null,
            "grid_template_rows": null,
            "height": null,
            "justify_content": null,
            "justify_items": null,
            "left": null,
            "margin": null,
            "max_height": null,
            "max_width": null,
            "min_height": null,
            "min_width": null,
            "object_fit": null,
            "object_position": null,
            "order": null,
            "overflow": null,
            "overflow_x": null,
            "overflow_y": null,
            "padding": null,
            "right": null,
            "top": null,
            "visibility": null,
            "width": null
          }
        },
        "5ffb691e4d094c9ba58089bcccf50891": {
          "model_module": "@jupyter-widgets/controls",
          "model_module_version": "1.5.0",
          "model_name": "HBoxModel",
          "state": {
            "_dom_classes": [],
            "_model_module": "@jupyter-widgets/controls",
            "_model_module_version": "1.5.0",
            "_model_name": "HBoxModel",
            "_view_count": null,
            "_view_module": "@jupyter-widgets/controls",
            "_view_module_version": "1.5.0",
            "_view_name": "HBoxView",
            "box_style": "",
            "children": [
              "IPY_MODEL_7290249a3b2f458bb556b39dc5c39175",
              "IPY_MODEL_e51704096b764789892ff5e9784d9f5d",
              "IPY_MODEL_9069ac2bf00d42aaae77bacba6eb3f8a"
            ],
            "layout": "IPY_MODEL_c89941b87f164716af2df3d25b5e0fac"
          }
        },
        "69e9afdd868b46c78902d2a2ddc2f4cb": {
          "model_module": "@jupyter-widgets/base",
          "model_module_version": "1.2.0",
          "model_name": "LayoutModel",
          "state": {
            "_model_module": "@jupyter-widgets/base",
            "_model_module_version": "1.2.0",
            "_model_name": "LayoutModel",
            "_view_count": null,
            "_view_module": "@jupyter-widgets/base",
            "_view_module_version": "1.2.0",
            "_view_name": "LayoutView",
            "align_content": null,
            "align_items": null,
            "align_self": null,
            "border": null,
            "bottom": null,
            "display": null,
            "flex": null,
            "flex_flow": null,
            "grid_area": null,
            "grid_auto_columns": null,
            "grid_auto_flow": null,
            "grid_auto_rows": null,
            "grid_column": null,
            "grid_gap": null,
            "grid_row": null,
            "grid_template_areas": null,
            "grid_template_columns": null,
            "grid_template_rows": null,
            "height": null,
            "justify_content": null,
            "justify_items": null,
            "left": null,
            "margin": null,
            "max_height": null,
            "max_width": null,
            "min_height": null,
            "min_width": null,
            "object_fit": null,
            "object_position": null,
            "order": null,
            "overflow": null,
            "overflow_x": null,
            "overflow_y": null,
            "padding": null,
            "right": null,
            "top": null,
            "visibility": null,
            "width": null
          }
        },
        "6b23092465d74c81af33c4a33d5a03e5": {
          "model_module": "@jupyter-widgets/base",
          "model_module_version": "1.2.0",
          "model_name": "LayoutModel",
          "state": {
            "_model_module": "@jupyter-widgets/base",
            "_model_module_version": "1.2.0",
            "_model_name": "LayoutModel",
            "_view_count": null,
            "_view_module": "@jupyter-widgets/base",
            "_view_module_version": "1.2.0",
            "_view_name": "LayoutView",
            "align_content": null,
            "align_items": null,
            "align_self": null,
            "border": null,
            "bottom": null,
            "display": null,
            "flex": null,
            "flex_flow": null,
            "grid_area": null,
            "grid_auto_columns": null,
            "grid_auto_flow": null,
            "grid_auto_rows": null,
            "grid_column": null,
            "grid_gap": null,
            "grid_row": null,
            "grid_template_areas": null,
            "grid_template_columns": null,
            "grid_template_rows": null,
            "height": null,
            "justify_content": null,
            "justify_items": null,
            "left": null,
            "margin": null,
            "max_height": null,
            "max_width": null,
            "min_height": null,
            "min_width": null,
            "object_fit": null,
            "object_position": null,
            "order": null,
            "overflow": null,
            "overflow_x": null,
            "overflow_y": null,
            "padding": null,
            "right": null,
            "top": null,
            "visibility": null,
            "width": null
          }
        },
        "6c809a9f5ac04c8582950fd92d3ec3d9": {
          "model_module": "@jupyter-widgets/controls",
          "model_module_version": "1.5.0",
          "model_name": "FloatProgressModel",
          "state": {
            "_dom_classes": [],
            "_model_module": "@jupyter-widgets/controls",
            "_model_module_version": "1.5.0",
            "_model_name": "FloatProgressModel",
            "_view_count": null,
            "_view_module": "@jupyter-widgets/controls",
            "_view_module_version": "1.5.0",
            "_view_name": "ProgressView",
            "bar_style": "success",
            "description": "",
            "description_tooltip": null,
            "layout": "IPY_MODEL_5102578d016747dc84ab6dfa18125137",
            "max": 5,
            "min": 0,
            "orientation": "horizontal",
            "style": "IPY_MODEL_1abc0d34334541838c09f46222313429",
            "value": 5
          }
        },
        "6eb84fcf1d8c4c81bb28768bcb913486": {
          "model_module": "@jupyter-widgets/controls",
          "model_module_version": "1.5.0",
          "model_name": "ProgressStyleModel",
          "state": {
            "_model_module": "@jupyter-widgets/controls",
            "_model_module_version": "1.5.0",
            "_model_name": "ProgressStyleModel",
            "_view_count": null,
            "_view_module": "@jupyter-widgets/base",
            "_view_module_version": "1.2.0",
            "_view_name": "StyleView",
            "bar_color": null,
            "description_width": ""
          }
        },
        "6f30640f20d9497fa1eb4ad39944df2b": {
          "model_module": "@jupyter-widgets/base",
          "model_module_version": "1.2.0",
          "model_name": "LayoutModel",
          "state": {
            "_model_module": "@jupyter-widgets/base",
            "_model_module_version": "1.2.0",
            "_model_name": "LayoutModel",
            "_view_count": null,
            "_view_module": "@jupyter-widgets/base",
            "_view_module_version": "1.2.0",
            "_view_name": "LayoutView",
            "align_content": null,
            "align_items": null,
            "align_self": null,
            "border": null,
            "bottom": null,
            "display": null,
            "flex": null,
            "flex_flow": null,
            "grid_area": null,
            "grid_auto_columns": null,
            "grid_auto_flow": null,
            "grid_auto_rows": null,
            "grid_column": null,
            "grid_gap": null,
            "grid_row": null,
            "grid_template_areas": null,
            "grid_template_columns": null,
            "grid_template_rows": null,
            "height": null,
            "justify_content": null,
            "justify_items": null,
            "left": null,
            "margin": null,
            "max_height": null,
            "max_width": null,
            "min_height": null,
            "min_width": null,
            "object_fit": null,
            "object_position": null,
            "order": null,
            "overflow": null,
            "overflow_x": null,
            "overflow_y": null,
            "padding": null,
            "right": null,
            "top": null,
            "visibility": null,
            "width": null
          }
        },
        "70b6a7d993fa4d41a70903be3c0e5b05": {
          "model_module": "@jupyter-widgets/controls",
          "model_module_version": "1.5.0",
          "model_name": "HTMLModel",
          "state": {
            "_dom_classes": [],
            "_model_module": "@jupyter-widgets/controls",
            "_model_module_version": "1.5.0",
            "_model_name": "HTMLModel",
            "_view_count": null,
            "_view_module": "@jupyter-widgets/controls",
            "_view_module_version": "1.5.0",
            "_view_name": "HTMLView",
            "description": "",
            "description_tooltip": null,
            "layout": "IPY_MODEL_5fe2b8830b7e4dfb95fb38bd4041e526",
            "placeholder": "​",
            "style": "IPY_MODEL_fb7a9c69d8b3481a8dcace49067999ce",
            "value": " 5/5 [00:34&lt;00:00,  7.19s/it]"
          }
        },
        "718d37cfccdc4807abb3b6cf0cc5a773": {
          "model_module": "@jupyter-widgets/base",
          "model_module_version": "1.2.0",
          "model_name": "LayoutModel",
          "state": {
            "_model_module": "@jupyter-widgets/base",
            "_model_module_version": "1.2.0",
            "_model_name": "LayoutModel",
            "_view_count": null,
            "_view_module": "@jupyter-widgets/base",
            "_view_module_version": "1.2.0",
            "_view_name": "LayoutView",
            "align_content": null,
            "align_items": null,
            "align_self": null,
            "border": null,
            "bottom": null,
            "display": null,
            "flex": null,
            "flex_flow": null,
            "grid_area": null,
            "grid_auto_columns": null,
            "grid_auto_flow": null,
            "grid_auto_rows": null,
            "grid_column": null,
            "grid_gap": null,
            "grid_row": null,
            "grid_template_areas": null,
            "grid_template_columns": null,
            "grid_template_rows": null,
            "height": null,
            "justify_content": null,
            "justify_items": null,
            "left": null,
            "margin": null,
            "max_height": null,
            "max_width": null,
            "min_height": null,
            "min_width": null,
            "object_fit": null,
            "object_position": null,
            "order": null,
            "overflow": null,
            "overflow_x": null,
            "overflow_y": null,
            "padding": null,
            "right": null,
            "top": null,
            "visibility": null,
            "width": null
          }
        },
        "72064d1e305544dbaa82601675571ffa": {
          "model_module": "@jupyter-widgets/controls",
          "model_module_version": "1.5.0",
          "model_name": "HBoxModel",
          "state": {
            "_dom_classes": [],
            "_model_module": "@jupyter-widgets/controls",
            "_model_module_version": "1.5.0",
            "_model_name": "HBoxModel",
            "_view_count": null,
            "_view_module": "@jupyter-widgets/controls",
            "_view_module_version": "1.5.0",
            "_view_name": "HBoxView",
            "box_style": "",
            "children": [
              "IPY_MODEL_4fe20d24a9fe4fa58251710375fa5f6b",
              "IPY_MODEL_bbd5b6e176a744a1b2566af2fae23970",
              "IPY_MODEL_d027311e75f64b3f9147bc683870cda2"
            ],
            "layout": "IPY_MODEL_6b23092465d74c81af33c4a33d5a03e5"
          }
        },
        "7290249a3b2f458bb556b39dc5c39175": {
          "model_module": "@jupyter-widgets/controls",
          "model_module_version": "1.5.0",
          "model_name": "HTMLModel",
          "state": {
            "_dom_classes": [],
            "_model_module": "@jupyter-widgets/controls",
            "_model_module_version": "1.5.0",
            "_model_name": "HTMLModel",
            "_view_count": null,
            "_view_module": "@jupyter-widgets/controls",
            "_view_module_version": "1.5.0",
            "_view_name": "HTMLView",
            "description": "",
            "description_tooltip": null,
            "layout": "IPY_MODEL_389367cb58764843be767f261690f78b",
            "placeholder": "​",
            "style": "IPY_MODEL_55f41e42d4524371a2084fbaa0867b8b",
            "value": "100%"
          }
        },
        "75fe55d37cc540ee99a46645dc2645d0": {
          "model_module": "@jupyter-widgets/controls",
          "model_module_version": "1.5.0",
          "model_name": "ProgressStyleModel",
          "state": {
            "_model_module": "@jupyter-widgets/controls",
            "_model_module_version": "1.5.0",
            "_model_name": "ProgressStyleModel",
            "_view_count": null,
            "_view_module": "@jupyter-widgets/base",
            "_view_module_version": "1.2.0",
            "_view_name": "StyleView",
            "bar_color": null,
            "description_width": ""
          }
        },
        "7f4446d511a14c999761586a0b7fcf4f": {
          "model_module": "@jupyter-widgets/controls",
          "model_module_version": "1.5.0",
          "model_name": "FloatProgressModel",
          "state": {
            "_dom_classes": [],
            "_model_module": "@jupyter-widgets/controls",
            "_model_module_version": "1.5.0",
            "_model_name": "FloatProgressModel",
            "_view_count": null,
            "_view_module": "@jupyter-widgets/controls",
            "_view_module_version": "1.5.0",
            "_view_name": "ProgressView",
            "bar_style": "success",
            "description": "",
            "description_tooltip": null,
            "layout": "IPY_MODEL_4857d287528f455398b534cf8102acad",
            "max": 5,
            "min": 0,
            "orientation": "horizontal",
            "style": "IPY_MODEL_b599507f230341a195d38b23e4f4d6fa",
            "value": 5
          }
        },
        "804b0e6f4bee4b3fa7ac8f7868955fce": {
          "model_module": "@jupyter-widgets/base",
          "model_module_version": "1.2.0",
          "model_name": "LayoutModel",
          "state": {
            "_model_module": "@jupyter-widgets/base",
            "_model_module_version": "1.2.0",
            "_model_name": "LayoutModel",
            "_view_count": null,
            "_view_module": "@jupyter-widgets/base",
            "_view_module_version": "1.2.0",
            "_view_name": "LayoutView",
            "align_content": null,
            "align_items": null,
            "align_self": null,
            "border": null,
            "bottom": null,
            "display": null,
            "flex": null,
            "flex_flow": null,
            "grid_area": null,
            "grid_auto_columns": null,
            "grid_auto_flow": null,
            "grid_auto_rows": null,
            "grid_column": null,
            "grid_gap": null,
            "grid_row": null,
            "grid_template_areas": null,
            "grid_template_columns": null,
            "grid_template_rows": null,
            "height": null,
            "justify_content": null,
            "justify_items": null,
            "left": null,
            "margin": null,
            "max_height": null,
            "max_width": null,
            "min_height": null,
            "min_width": null,
            "object_fit": null,
            "object_position": null,
            "order": null,
            "overflow": null,
            "overflow_x": null,
            "overflow_y": null,
            "padding": null,
            "right": null,
            "top": null,
            "visibility": null,
            "width": null
          }
        },
        "808c3b628dbf4395a5ef3db9845791ef": {
          "model_module": "@jupyter-widgets/controls",
          "model_module_version": "1.5.0",
          "model_name": "ProgressStyleModel",
          "state": {
            "_model_module": "@jupyter-widgets/controls",
            "_model_module_version": "1.5.0",
            "_model_name": "ProgressStyleModel",
            "_view_count": null,
            "_view_module": "@jupyter-widgets/base",
            "_view_module_version": "1.2.0",
            "_view_name": "StyleView",
            "bar_color": null,
            "description_width": ""
          }
        },
        "835245a26c1f459495f6556dc605b52b": {
          "model_module": "@jupyter-widgets/controls",
          "model_module_version": "1.5.0",
          "model_name": "DescriptionStyleModel",
          "state": {
            "_model_module": "@jupyter-widgets/controls",
            "_model_module_version": "1.5.0",
            "_model_name": "DescriptionStyleModel",
            "_view_count": null,
            "_view_module": "@jupyter-widgets/base",
            "_view_module_version": "1.2.0",
            "_view_name": "StyleView",
            "description_width": ""
          }
        },
        "84a840d0ab7546d9a62d65529e85debe": {
          "model_module": "@jupyter-widgets/controls",
          "model_module_version": "1.5.0",
          "model_name": "HBoxModel",
          "state": {
            "_dom_classes": [],
            "_model_module": "@jupyter-widgets/controls",
            "_model_module_version": "1.5.0",
            "_model_name": "HBoxModel",
            "_view_count": null,
            "_view_module": "@jupyter-widgets/controls",
            "_view_module_version": "1.5.0",
            "_view_name": "HBoxView",
            "box_style": "",
            "children": [
              "IPY_MODEL_4baaf621ff9c4a049baa069502c7cb16",
              "IPY_MODEL_d936d7bd21a540a8b1991c96ae35d7f9",
              "IPY_MODEL_b7ee42180b87400cba00ca52e473d923"
            ],
            "layout": "IPY_MODEL_2bc258a3a25a4afa99b2c64fef80da52"
          }
        },
        "88d7715cba0c4689aa3df53138ff4202": {
          "model_module": "@jupyter-widgets/controls",
          "model_module_version": "1.5.0",
          "model_name": "DescriptionStyleModel",
          "state": {
            "_model_module": "@jupyter-widgets/controls",
            "_model_module_version": "1.5.0",
            "_model_name": "DescriptionStyleModel",
            "_view_count": null,
            "_view_module": "@jupyter-widgets/base",
            "_view_module_version": "1.2.0",
            "_view_name": "StyleView",
            "description_width": ""
          }
        },
        "9069ac2bf00d42aaae77bacba6eb3f8a": {
          "model_module": "@jupyter-widgets/controls",
          "model_module_version": "1.5.0",
          "model_name": "HTMLModel",
          "state": {
            "_dom_classes": [],
            "_model_module": "@jupyter-widgets/controls",
            "_model_module_version": "1.5.0",
            "_model_name": "HTMLModel",
            "_view_count": null,
            "_view_module": "@jupyter-widgets/controls",
            "_view_module_version": "1.5.0",
            "_view_name": "HTMLView",
            "description": "",
            "description_tooltip": null,
            "layout": "IPY_MODEL_eb119cd0254345db8cb50b5417857a83",
            "placeholder": "​",
            "style": "IPY_MODEL_08bc9087149643658cbecc5d2a82fca0",
            "value": " 5/5 [00:32&lt;00:00,  6.58s/it]"
          }
        },
        "916e66f95b9d46978e821f853ae370af": {
          "model_module": "@jupyter-widgets/controls",
          "model_module_version": "1.5.0",
          "model_name": "DescriptionStyleModel",
          "state": {
            "_model_module": "@jupyter-widgets/controls",
            "_model_module_version": "1.5.0",
            "_model_name": "DescriptionStyleModel",
            "_view_count": null,
            "_view_module": "@jupyter-widgets/base",
            "_view_module_version": "1.2.0",
            "_view_name": "StyleView",
            "description_width": ""
          }
        },
        "91ffd74640e642e899fbe52877e253d3": {
          "model_module": "@jupyter-widgets/base",
          "model_module_version": "1.2.0",
          "model_name": "LayoutModel",
          "state": {
            "_model_module": "@jupyter-widgets/base",
            "_model_module_version": "1.2.0",
            "_model_name": "LayoutModel",
            "_view_count": null,
            "_view_module": "@jupyter-widgets/base",
            "_view_module_version": "1.2.0",
            "_view_name": "LayoutView",
            "align_content": null,
            "align_items": null,
            "align_self": null,
            "border": null,
            "bottom": null,
            "display": null,
            "flex": null,
            "flex_flow": null,
            "grid_area": null,
            "grid_auto_columns": null,
            "grid_auto_flow": null,
            "grid_auto_rows": null,
            "grid_column": null,
            "grid_gap": null,
            "grid_row": null,
            "grid_template_areas": null,
            "grid_template_columns": null,
            "grid_template_rows": null,
            "height": null,
            "justify_content": null,
            "justify_items": null,
            "left": null,
            "margin": null,
            "max_height": null,
            "max_width": null,
            "min_height": null,
            "min_width": null,
            "object_fit": null,
            "object_position": null,
            "order": null,
            "overflow": null,
            "overflow_x": null,
            "overflow_y": null,
            "padding": null,
            "right": null,
            "top": null,
            "visibility": null,
            "width": null
          }
        },
        "93b49b783b5b4ef6b622652505eec8a1": {
          "model_module": "@jupyter-widgets/base",
          "model_module_version": "1.2.0",
          "model_name": "LayoutModel",
          "state": {
            "_model_module": "@jupyter-widgets/base",
            "_model_module_version": "1.2.0",
            "_model_name": "LayoutModel",
            "_view_count": null,
            "_view_module": "@jupyter-widgets/base",
            "_view_module_version": "1.2.0",
            "_view_name": "LayoutView",
            "align_content": null,
            "align_items": null,
            "align_self": null,
            "border": null,
            "bottom": null,
            "display": null,
            "flex": null,
            "flex_flow": null,
            "grid_area": null,
            "grid_auto_columns": null,
            "grid_auto_flow": null,
            "grid_auto_rows": null,
            "grid_column": null,
            "grid_gap": null,
            "grid_row": null,
            "grid_template_areas": null,
            "grid_template_columns": null,
            "grid_template_rows": null,
            "height": null,
            "justify_content": null,
            "justify_items": null,
            "left": null,
            "margin": null,
            "max_height": null,
            "max_width": null,
            "min_height": null,
            "min_width": null,
            "object_fit": null,
            "object_position": null,
            "order": null,
            "overflow": null,
            "overflow_x": null,
            "overflow_y": null,
            "padding": null,
            "right": null,
            "top": null,
            "visibility": null,
            "width": null
          }
        },
        "95776b6bf0b4439a942ff6e168050405": {
          "model_module": "@jupyter-widgets/controls",
          "model_module_version": "1.5.0",
          "model_name": "DescriptionStyleModel",
          "state": {
            "_model_module": "@jupyter-widgets/controls",
            "_model_module_version": "1.5.0",
            "_model_name": "DescriptionStyleModel",
            "_view_count": null,
            "_view_module": "@jupyter-widgets/base",
            "_view_module_version": "1.2.0",
            "_view_name": "StyleView",
            "description_width": ""
          }
        },
        "9698bae45a624f06b293c41361cc7dd9": {
          "model_module": "@jupyter-widgets/base",
          "model_module_version": "1.2.0",
          "model_name": "LayoutModel",
          "state": {
            "_model_module": "@jupyter-widgets/base",
            "_model_module_version": "1.2.0",
            "_model_name": "LayoutModel",
            "_view_count": null,
            "_view_module": "@jupyter-widgets/base",
            "_view_module_version": "1.2.0",
            "_view_name": "LayoutView",
            "align_content": null,
            "align_items": null,
            "align_self": null,
            "border": null,
            "bottom": null,
            "display": null,
            "flex": null,
            "flex_flow": null,
            "grid_area": null,
            "grid_auto_columns": null,
            "grid_auto_flow": null,
            "grid_auto_rows": null,
            "grid_column": null,
            "grid_gap": null,
            "grid_row": null,
            "grid_template_areas": null,
            "grid_template_columns": null,
            "grid_template_rows": null,
            "height": null,
            "justify_content": null,
            "justify_items": null,
            "left": null,
            "margin": null,
            "max_height": null,
            "max_width": null,
            "min_height": null,
            "min_width": null,
            "object_fit": null,
            "object_position": null,
            "order": null,
            "overflow": null,
            "overflow_x": null,
            "overflow_y": null,
            "padding": null,
            "right": null,
            "top": null,
            "visibility": null,
            "width": null
          }
        },
        "96cbb8f716674820ade021eb9168a4a5": {
          "model_module": "@jupyter-widgets/base",
          "model_module_version": "1.2.0",
          "model_name": "LayoutModel",
          "state": {
            "_model_module": "@jupyter-widgets/base",
            "_model_module_version": "1.2.0",
            "_model_name": "LayoutModel",
            "_view_count": null,
            "_view_module": "@jupyter-widgets/base",
            "_view_module_version": "1.2.0",
            "_view_name": "LayoutView",
            "align_content": null,
            "align_items": null,
            "align_self": null,
            "border": null,
            "bottom": null,
            "display": null,
            "flex": null,
            "flex_flow": null,
            "grid_area": null,
            "grid_auto_columns": null,
            "grid_auto_flow": null,
            "grid_auto_rows": null,
            "grid_column": null,
            "grid_gap": null,
            "grid_row": null,
            "grid_template_areas": null,
            "grid_template_columns": null,
            "grid_template_rows": null,
            "height": null,
            "justify_content": null,
            "justify_items": null,
            "left": null,
            "margin": null,
            "max_height": null,
            "max_width": null,
            "min_height": null,
            "min_width": null,
            "object_fit": null,
            "object_position": null,
            "order": null,
            "overflow": null,
            "overflow_x": null,
            "overflow_y": null,
            "padding": null,
            "right": null,
            "top": null,
            "visibility": null,
            "width": null
          }
        },
        "96e7851c002c4b0f8a0adb6679381e09": {
          "model_module": "@jupyter-widgets/base",
          "model_module_version": "1.2.0",
          "model_name": "LayoutModel",
          "state": {
            "_model_module": "@jupyter-widgets/base",
            "_model_module_version": "1.2.0",
            "_model_name": "LayoutModel",
            "_view_count": null,
            "_view_module": "@jupyter-widgets/base",
            "_view_module_version": "1.2.0",
            "_view_name": "LayoutView",
            "align_content": null,
            "align_items": null,
            "align_self": null,
            "border": null,
            "bottom": null,
            "display": null,
            "flex": null,
            "flex_flow": null,
            "grid_area": null,
            "grid_auto_columns": null,
            "grid_auto_flow": null,
            "grid_auto_rows": null,
            "grid_column": null,
            "grid_gap": null,
            "grid_row": null,
            "grid_template_areas": null,
            "grid_template_columns": null,
            "grid_template_rows": null,
            "height": null,
            "justify_content": null,
            "justify_items": null,
            "left": null,
            "margin": null,
            "max_height": null,
            "max_width": null,
            "min_height": null,
            "min_width": null,
            "object_fit": null,
            "object_position": null,
            "order": null,
            "overflow": null,
            "overflow_x": null,
            "overflow_y": null,
            "padding": null,
            "right": null,
            "top": null,
            "visibility": null,
            "width": null
          }
        },
        "986cb65733b148fe88c755993dc83e3c": {
          "model_module": "@jupyter-widgets/base",
          "model_module_version": "1.2.0",
          "model_name": "LayoutModel",
          "state": {
            "_model_module": "@jupyter-widgets/base",
            "_model_module_version": "1.2.0",
            "_model_name": "LayoutModel",
            "_view_count": null,
            "_view_module": "@jupyter-widgets/base",
            "_view_module_version": "1.2.0",
            "_view_name": "LayoutView",
            "align_content": null,
            "align_items": null,
            "align_self": null,
            "border": null,
            "bottom": null,
            "display": null,
            "flex": null,
            "flex_flow": null,
            "grid_area": null,
            "grid_auto_columns": null,
            "grid_auto_flow": null,
            "grid_auto_rows": null,
            "grid_column": null,
            "grid_gap": null,
            "grid_row": null,
            "grid_template_areas": null,
            "grid_template_columns": null,
            "grid_template_rows": null,
            "height": null,
            "justify_content": null,
            "justify_items": null,
            "left": null,
            "margin": null,
            "max_height": null,
            "max_width": null,
            "min_height": null,
            "min_width": null,
            "object_fit": null,
            "object_position": null,
            "order": null,
            "overflow": null,
            "overflow_x": null,
            "overflow_y": null,
            "padding": null,
            "right": null,
            "top": null,
            "visibility": null,
            "width": null
          }
        },
        "9a4af3ca7e0f4a89b96841ba7f28ac11": {
          "model_module": "@jupyter-widgets/controls",
          "model_module_version": "1.5.0",
          "model_name": "HTMLModel",
          "state": {
            "_dom_classes": [],
            "_model_module": "@jupyter-widgets/controls",
            "_model_module_version": "1.5.0",
            "_model_name": "HTMLModel",
            "_view_count": null,
            "_view_module": "@jupyter-widgets/controls",
            "_view_module_version": "1.5.0",
            "_view_name": "HTMLView",
            "description": "",
            "description_tooltip": null,
            "layout": "IPY_MODEL_69e9afdd868b46c78902d2a2ddc2f4cb",
            "placeholder": "​",
            "style": "IPY_MODEL_88d7715cba0c4689aa3df53138ff4202",
            "value": "100%"
          }
        },
        "a32aefc94c2448bf866b35b1792b4a1c": {
          "model_module": "@jupyter-widgets/controls",
          "model_module_version": "1.5.0",
          "model_name": "DescriptionStyleModel",
          "state": {
            "_model_module": "@jupyter-widgets/controls",
            "_model_module_version": "1.5.0",
            "_model_name": "DescriptionStyleModel",
            "_view_count": null,
            "_view_module": "@jupyter-widgets/base",
            "_view_module_version": "1.2.0",
            "_view_name": "StyleView",
            "description_width": ""
          }
        },
        "a4063422d3104fd8ab77628f4f4e6038": {
          "model_module": "@jupyter-widgets/controls",
          "model_module_version": "1.5.0",
          "model_name": "ProgressStyleModel",
          "state": {
            "_model_module": "@jupyter-widgets/controls",
            "_model_module_version": "1.5.0",
            "_model_name": "ProgressStyleModel",
            "_view_count": null,
            "_view_module": "@jupyter-widgets/base",
            "_view_module_version": "1.2.0",
            "_view_name": "StyleView",
            "bar_color": null,
            "description_width": ""
          }
        },
        "a731afb612e54e7caac4553ae19aa9e7": {
          "model_module": "@jupyter-widgets/controls",
          "model_module_version": "1.5.0",
          "model_name": "HBoxModel",
          "state": {
            "_dom_classes": [],
            "_model_module": "@jupyter-widgets/controls",
            "_model_module_version": "1.5.0",
            "_model_name": "HBoxModel",
            "_view_count": null,
            "_view_module": "@jupyter-widgets/controls",
            "_view_module_version": "1.5.0",
            "_view_name": "HBoxView",
            "box_style": "",
            "children": [
              "IPY_MODEL_ad2d88c17a994e199b4e876c45e873e5",
              "IPY_MODEL_faba77a3b60948ce94bc3ec96821e019",
              "IPY_MODEL_c0add242c22e46cca6a497ca3ae06960"
            ],
            "layout": "IPY_MODEL_15e206458ccc443c9dd3340160abf1de"
          }
        },
        "a76fd0ded0944fbf978c716622af4b2e": {
          "model_module": "@jupyter-widgets/controls",
          "model_module_version": "1.5.0",
          "model_name": "DescriptionStyleModel",
          "state": {
            "_model_module": "@jupyter-widgets/controls",
            "_model_module_version": "1.5.0",
            "_model_name": "DescriptionStyleModel",
            "_view_count": null,
            "_view_module": "@jupyter-widgets/base",
            "_view_module_version": "1.2.0",
            "_view_name": "StyleView",
            "description_width": ""
          }
        },
        "aaa2c9b5fd954933be126133850cb49b": {
          "model_module": "@jupyter-widgets/base",
          "model_module_version": "1.2.0",
          "model_name": "LayoutModel",
          "state": {
            "_model_module": "@jupyter-widgets/base",
            "_model_module_version": "1.2.0",
            "_model_name": "LayoutModel",
            "_view_count": null,
            "_view_module": "@jupyter-widgets/base",
            "_view_module_version": "1.2.0",
            "_view_name": "LayoutView",
            "align_content": null,
            "align_items": null,
            "align_self": null,
            "border": null,
            "bottom": null,
            "display": null,
            "flex": null,
            "flex_flow": null,
            "grid_area": null,
            "grid_auto_columns": null,
            "grid_auto_flow": null,
            "grid_auto_rows": null,
            "grid_column": null,
            "grid_gap": null,
            "grid_row": null,
            "grid_template_areas": null,
            "grid_template_columns": null,
            "grid_template_rows": null,
            "height": null,
            "justify_content": null,
            "justify_items": null,
            "left": null,
            "margin": null,
            "max_height": null,
            "max_width": null,
            "min_height": null,
            "min_width": null,
            "object_fit": null,
            "object_position": null,
            "order": null,
            "overflow": null,
            "overflow_x": null,
            "overflow_y": null,
            "padding": null,
            "right": null,
            "top": null,
            "visibility": null,
            "width": null
          }
        },
        "aabbea56d1ee44aba6d729c53eb66e44": {
          "model_module": "@jupyter-widgets/controls",
          "model_module_version": "1.5.0",
          "model_name": "HTMLModel",
          "state": {
            "_dom_classes": [],
            "_model_module": "@jupyter-widgets/controls",
            "_model_module_version": "1.5.0",
            "_model_name": "HTMLModel",
            "_view_count": null,
            "_view_module": "@jupyter-widgets/controls",
            "_view_module_version": "1.5.0",
            "_view_name": "HTMLView",
            "description": "",
            "description_tooltip": null,
            "layout": "IPY_MODEL_d54dd6d0aba641c584d950df8f76f518",
            "placeholder": "​",
            "style": "IPY_MODEL_ebdbe6bcc61947ccb16b3015e1c019ec",
            "value": " 5/5 [00:30&lt;00:00,  6.00s/it]"
          }
        },
        "ab5bd3c40de6468498f99086ac3849b7": {
          "model_module": "@jupyter-widgets/controls",
          "model_module_version": "1.5.0",
          "model_name": "ProgressStyleModel",
          "state": {
            "_model_module": "@jupyter-widgets/controls",
            "_model_module_version": "1.5.0",
            "_model_name": "ProgressStyleModel",
            "_view_count": null,
            "_view_module": "@jupyter-widgets/base",
            "_view_module_version": "1.2.0",
            "_view_name": "StyleView",
            "bar_color": null,
            "description_width": ""
          }
        },
        "ad2d88c17a994e199b4e876c45e873e5": {
          "model_module": "@jupyter-widgets/controls",
          "model_module_version": "1.5.0",
          "model_name": "HTMLModel",
          "state": {
            "_dom_classes": [],
            "_model_module": "@jupyter-widgets/controls",
            "_model_module_version": "1.5.0",
            "_model_name": "HTMLModel",
            "_view_count": null,
            "_view_module": "@jupyter-widgets/controls",
            "_view_module_version": "1.5.0",
            "_view_name": "HTMLView",
            "description": "",
            "description_tooltip": null,
            "layout": "IPY_MODEL_0481c4b241564bbf91f7084e68775bf0",
            "placeholder": "​",
            "style": "IPY_MODEL_4ffa441ea9bf4bc99cb46733bed45e9d",
            "value": "100%"
          }
        },
        "b46c372f1df640f5ac69634badbed3fd": {
          "model_module": "@jupyter-widgets/controls",
          "model_module_version": "1.5.0",
          "model_name": "ProgressStyleModel",
          "state": {
            "_model_module": "@jupyter-widgets/controls",
            "_model_module_version": "1.5.0",
            "_model_name": "ProgressStyleModel",
            "_view_count": null,
            "_view_module": "@jupyter-widgets/base",
            "_view_module_version": "1.2.0",
            "_view_name": "StyleView",
            "bar_color": null,
            "description_width": ""
          }
        },
        "b5015bd80db94302a89c129a63bb0731": {
          "model_module": "@jupyter-widgets/base",
          "model_module_version": "1.2.0",
          "model_name": "LayoutModel",
          "state": {
            "_model_module": "@jupyter-widgets/base",
            "_model_module_version": "1.2.0",
            "_model_name": "LayoutModel",
            "_view_count": null,
            "_view_module": "@jupyter-widgets/base",
            "_view_module_version": "1.2.0",
            "_view_name": "LayoutView",
            "align_content": null,
            "align_items": null,
            "align_self": null,
            "border": null,
            "bottom": null,
            "display": null,
            "flex": null,
            "flex_flow": null,
            "grid_area": null,
            "grid_auto_columns": null,
            "grid_auto_flow": null,
            "grid_auto_rows": null,
            "grid_column": null,
            "grid_gap": null,
            "grid_row": null,
            "grid_template_areas": null,
            "grid_template_columns": null,
            "grid_template_rows": null,
            "height": null,
            "justify_content": null,
            "justify_items": null,
            "left": null,
            "margin": null,
            "max_height": null,
            "max_width": null,
            "min_height": null,
            "min_width": null,
            "object_fit": null,
            "object_position": null,
            "order": null,
            "overflow": null,
            "overflow_x": null,
            "overflow_y": null,
            "padding": null,
            "right": null,
            "top": null,
            "visibility": null,
            "width": null
          }
        },
        "b599507f230341a195d38b23e4f4d6fa": {
          "model_module": "@jupyter-widgets/controls",
          "model_module_version": "1.5.0",
          "model_name": "ProgressStyleModel",
          "state": {
            "_model_module": "@jupyter-widgets/controls",
            "_model_module_version": "1.5.0",
            "_model_name": "ProgressStyleModel",
            "_view_count": null,
            "_view_module": "@jupyter-widgets/base",
            "_view_module_version": "1.2.0",
            "_view_name": "StyleView",
            "bar_color": null,
            "description_width": ""
          }
        },
        "b7ee42180b87400cba00ca52e473d923": {
          "model_module": "@jupyter-widgets/controls",
          "model_module_version": "1.5.0",
          "model_name": "HTMLModel",
          "state": {
            "_dom_classes": [],
            "_model_module": "@jupyter-widgets/controls",
            "_model_module_version": "1.5.0",
            "_model_name": "HTMLModel",
            "_view_count": null,
            "_view_module": "@jupyter-widgets/controls",
            "_view_module_version": "1.5.0",
            "_view_name": "HTMLView",
            "description": "",
            "description_tooltip": null,
            "layout": "IPY_MODEL_91ffd74640e642e899fbe52877e253d3",
            "placeholder": "​",
            "style": "IPY_MODEL_1599968c229c47b4a89e7e7cf2374f6b",
            "value": " 5/5 [00:30&lt;00:00,  5.99s/it]"
          }
        },
        "bac6d6166ad44efbb1592fee4ce3715e": {
          "model_module": "@jupyter-widgets/controls",
          "model_module_version": "1.5.0",
          "model_name": "FloatProgressModel",
          "state": {
            "_dom_classes": [],
            "_model_module": "@jupyter-widgets/controls",
            "_model_module_version": "1.5.0",
            "_model_name": "FloatProgressModel",
            "_view_count": null,
            "_view_module": "@jupyter-widgets/controls",
            "_view_module_version": "1.5.0",
            "_view_name": "ProgressView",
            "bar_style": "success",
            "description": "",
            "description_tooltip": null,
            "layout": "IPY_MODEL_5811122cc1244d74898fd2d8ffea5041",
            "max": 5,
            "min": 0,
            "orientation": "horizontal",
            "style": "IPY_MODEL_b46c372f1df640f5ac69634badbed3fd",
            "value": 5
          }
        },
        "bbd5b6e176a744a1b2566af2fae23970": {
          "model_module": "@jupyter-widgets/controls",
          "model_module_version": "1.5.0",
          "model_name": "FloatProgressModel",
          "state": {
            "_dom_classes": [],
            "_model_module": "@jupyter-widgets/controls",
            "_model_module_version": "1.5.0",
            "_model_name": "FloatProgressModel",
            "_view_count": null,
            "_view_module": "@jupyter-widgets/controls",
            "_view_module_version": "1.5.0",
            "_view_name": "ProgressView",
            "bar_style": "success",
            "description": "",
            "description_tooltip": null,
            "layout": "IPY_MODEL_30970cb521e5473ea8a6b54da47fa66b",
            "max": 5,
            "min": 0,
            "orientation": "horizontal",
            "style": "IPY_MODEL_c4a2af14e5da4c5a8cff7c8375b7d020",
            "value": 5
          }
        },
        "bf6a2d64d6ee456085e89d2ada331938": {
          "model_module": "@jupyter-widgets/controls",
          "model_module_version": "1.5.0",
          "model_name": "HTMLModel",
          "state": {
            "_dom_classes": [],
            "_model_module": "@jupyter-widgets/controls",
            "_model_module_version": "1.5.0",
            "_model_name": "HTMLModel",
            "_view_count": null,
            "_view_module": "@jupyter-widgets/controls",
            "_view_module_version": "1.5.0",
            "_view_name": "HTMLView",
            "description": "",
            "description_tooltip": null,
            "layout": "IPY_MODEL_804b0e6f4bee4b3fa7ac8f7868955fce",
            "placeholder": "​",
            "style": "IPY_MODEL_a76fd0ded0944fbf978c716622af4b2e",
            "value": "100%"
          }
        },
        "c001a266ce9743ee84a5912ad7664b41": {
          "model_module": "@jupyter-widgets/controls",
          "model_module_version": "1.5.0",
          "model_name": "HTMLModel",
          "state": {
            "_dom_classes": [],
            "_model_module": "@jupyter-widgets/controls",
            "_model_module_version": "1.5.0",
            "_model_name": "HTMLModel",
            "_view_count": null,
            "_view_module": "@jupyter-widgets/controls",
            "_view_module_version": "1.5.0",
            "_view_name": "HTMLView",
            "description": "",
            "description_tooltip": null,
            "layout": "IPY_MODEL_2288a8b80b304bb7b6c273a50794b126",
            "placeholder": "​",
            "style": "IPY_MODEL_d8e607be0aae4c2591a145e26c40738e",
            "value": " 5/5 [00:31&lt;00:00,  6.17s/it]"
          }
        },
        "c0add242c22e46cca6a497ca3ae06960": {
          "model_module": "@jupyter-widgets/controls",
          "model_module_version": "1.5.0",
          "model_name": "HTMLModel",
          "state": {
            "_dom_classes": [],
            "_model_module": "@jupyter-widgets/controls",
            "_model_module_version": "1.5.0",
            "_model_name": "HTMLModel",
            "_view_count": null,
            "_view_module": "@jupyter-widgets/controls",
            "_view_module_version": "1.5.0",
            "_view_name": "HTMLView",
            "description": "",
            "description_tooltip": null,
            "layout": "IPY_MODEL_9698bae45a624f06b293c41361cc7dd9",
            "placeholder": "​",
            "style": "IPY_MODEL_f0addd48e05a4e4993b9a42a9e69f414",
            "value": " 5/5 [00:34&lt;00:00,  6.91s/it]"
          }
        },
        "c3f4e182036c4f50bc8f2f13d70b363e": {
          "model_module": "@jupyter-widgets/controls",
          "model_module_version": "1.5.0",
          "model_name": "HTMLModel",
          "state": {
            "_dom_classes": [],
            "_model_module": "@jupyter-widgets/controls",
            "_model_module_version": "1.5.0",
            "_model_name": "HTMLModel",
            "_view_count": null,
            "_view_module": "@jupyter-widgets/controls",
            "_view_module_version": "1.5.0",
            "_view_name": "HTMLView",
            "description": "",
            "description_tooltip": null,
            "layout": "IPY_MODEL_3718e1f80c3b493e889b9ed95f10acd1",
            "placeholder": "​",
            "style": "IPY_MODEL_c509868649d3461caafc0607feb6aea6",
            "value": "100%"
          }
        },
        "c4a2af14e5da4c5a8cff7c8375b7d020": {
          "model_module": "@jupyter-widgets/controls",
          "model_module_version": "1.5.0",
          "model_name": "ProgressStyleModel",
          "state": {
            "_model_module": "@jupyter-widgets/controls",
            "_model_module_version": "1.5.0",
            "_model_name": "ProgressStyleModel",
            "_view_count": null,
            "_view_module": "@jupyter-widgets/base",
            "_view_module_version": "1.2.0",
            "_view_name": "StyleView",
            "bar_color": null,
            "description_width": ""
          }
        },
        "c509868649d3461caafc0607feb6aea6": {
          "model_module": "@jupyter-widgets/controls",
          "model_module_version": "1.5.0",
          "model_name": "DescriptionStyleModel",
          "state": {
            "_model_module": "@jupyter-widgets/controls",
            "_model_module_version": "1.5.0",
            "_model_name": "DescriptionStyleModel",
            "_view_count": null,
            "_view_module": "@jupyter-widgets/base",
            "_view_module_version": "1.2.0",
            "_view_name": "StyleView",
            "description_width": ""
          }
        },
        "c5fd5579e35247b9bee8758f35dd30e0": {
          "model_module": "@jupyter-widgets/controls",
          "model_module_version": "1.5.0",
          "model_name": "HTMLModel",
          "state": {
            "_dom_classes": [],
            "_model_module": "@jupyter-widgets/controls",
            "_model_module_version": "1.5.0",
            "_model_name": "HTMLModel",
            "_view_count": null,
            "_view_module": "@jupyter-widgets/controls",
            "_view_module_version": "1.5.0",
            "_view_name": "HTMLView",
            "description": "",
            "description_tooltip": null,
            "layout": "IPY_MODEL_6f30640f20d9497fa1eb4ad39944df2b",
            "placeholder": "​",
            "style": "IPY_MODEL_a32aefc94c2448bf866b35b1792b4a1c",
            "value": "100%"
          }
        },
        "c89941b87f164716af2df3d25b5e0fac": {
          "model_module": "@jupyter-widgets/base",
          "model_module_version": "1.2.0",
          "model_name": "LayoutModel",
          "state": {
            "_model_module": "@jupyter-widgets/base",
            "_model_module_version": "1.2.0",
            "_model_name": "LayoutModel",
            "_view_count": null,
            "_view_module": "@jupyter-widgets/base",
            "_view_module_version": "1.2.0",
            "_view_name": "LayoutView",
            "align_content": null,
            "align_items": null,
            "align_self": null,
            "border": null,
            "bottom": null,
            "display": null,
            "flex": null,
            "flex_flow": null,
            "grid_area": null,
            "grid_auto_columns": null,
            "grid_auto_flow": null,
            "grid_auto_rows": null,
            "grid_column": null,
            "grid_gap": null,
            "grid_row": null,
            "grid_template_areas": null,
            "grid_template_columns": null,
            "grid_template_rows": null,
            "height": null,
            "justify_content": null,
            "justify_items": null,
            "left": null,
            "margin": null,
            "max_height": null,
            "max_width": null,
            "min_height": null,
            "min_width": null,
            "object_fit": null,
            "object_position": null,
            "order": null,
            "overflow": null,
            "overflow_x": null,
            "overflow_y": null,
            "padding": null,
            "right": null,
            "top": null,
            "visibility": null,
            "width": null
          }
        },
        "d027311e75f64b3f9147bc683870cda2": {
          "model_module": "@jupyter-widgets/controls",
          "model_module_version": "1.5.0",
          "model_name": "HTMLModel",
          "state": {
            "_dom_classes": [],
            "_model_module": "@jupyter-widgets/controls",
            "_model_module_version": "1.5.0",
            "_model_name": "HTMLModel",
            "_view_count": null,
            "_view_module": "@jupyter-widgets/controls",
            "_view_module_version": "1.5.0",
            "_view_name": "HTMLView",
            "description": "",
            "description_tooltip": null,
            "layout": "IPY_MODEL_defc097f55784ec0ac830a225f9b077e",
            "placeholder": "​",
            "style": "IPY_MODEL_5b8735998ce5437facf1ca02ccc40e20",
            "value": " 5/5 [00:30&lt;00:00,  6.03s/it]"
          }
        },
        "d410b55f8d654bc38af7bd1ff84e6657": {
          "model_module": "@jupyter-widgets/controls",
          "model_module_version": "1.5.0",
          "model_name": "ProgressStyleModel",
          "state": {
            "_model_module": "@jupyter-widgets/controls",
            "_model_module_version": "1.5.0",
            "_model_name": "ProgressStyleModel",
            "_view_count": null,
            "_view_module": "@jupyter-widgets/base",
            "_view_module_version": "1.2.0",
            "_view_name": "StyleView",
            "bar_color": null,
            "description_width": ""
          }
        },
        "d42c8136b4cb46c1ad12ac6dcde8cda1": {
          "model_module": "@jupyter-widgets/controls",
          "model_module_version": "1.5.0",
          "model_name": "DescriptionStyleModel",
          "state": {
            "_model_module": "@jupyter-widgets/controls",
            "_model_module_version": "1.5.0",
            "_model_name": "DescriptionStyleModel",
            "_view_count": null,
            "_view_module": "@jupyter-widgets/base",
            "_view_module_version": "1.2.0",
            "_view_name": "StyleView",
            "description_width": ""
          }
        },
        "d54dd6d0aba641c584d950df8f76f518": {
          "model_module": "@jupyter-widgets/base",
          "model_module_version": "1.2.0",
          "model_name": "LayoutModel",
          "state": {
            "_model_module": "@jupyter-widgets/base",
            "_model_module_version": "1.2.0",
            "_model_name": "LayoutModel",
            "_view_count": null,
            "_view_module": "@jupyter-widgets/base",
            "_view_module_version": "1.2.0",
            "_view_name": "LayoutView",
            "align_content": null,
            "align_items": null,
            "align_self": null,
            "border": null,
            "bottom": null,
            "display": null,
            "flex": null,
            "flex_flow": null,
            "grid_area": null,
            "grid_auto_columns": null,
            "grid_auto_flow": null,
            "grid_auto_rows": null,
            "grid_column": null,
            "grid_gap": null,
            "grid_row": null,
            "grid_template_areas": null,
            "grid_template_columns": null,
            "grid_template_rows": null,
            "height": null,
            "justify_content": null,
            "justify_items": null,
            "left": null,
            "margin": null,
            "max_height": null,
            "max_width": null,
            "min_height": null,
            "min_width": null,
            "object_fit": null,
            "object_position": null,
            "order": null,
            "overflow": null,
            "overflow_x": null,
            "overflow_y": null,
            "padding": null,
            "right": null,
            "top": null,
            "visibility": null,
            "width": null
          }
        },
        "d6a2f96bf0144b0490d1bf3ec9d5524d": {
          "model_module": "@jupyter-widgets/controls",
          "model_module_version": "1.5.0",
          "model_name": "HTMLModel",
          "state": {
            "_dom_classes": [],
            "_model_module": "@jupyter-widgets/controls",
            "_model_module_version": "1.5.0",
            "_model_name": "HTMLModel",
            "_view_count": null,
            "_view_module": "@jupyter-widgets/controls",
            "_view_module_version": "1.5.0",
            "_view_name": "HTMLView",
            "description": "",
            "description_tooltip": null,
            "layout": "IPY_MODEL_96cbb8f716674820ade021eb9168a4a5",
            "placeholder": "​",
            "style": "IPY_MODEL_408f1a2e0d814e589048600a597496f2",
            "value": " 5/5 [00:29&lt;00:00,  5.97s/it]"
          }
        },
        "d6fa2d09861d4d769c86c645fba9dfa7": {
          "model_module": "@jupyter-widgets/controls",
          "model_module_version": "1.5.0",
          "model_name": "DescriptionStyleModel",
          "state": {
            "_model_module": "@jupyter-widgets/controls",
            "_model_module_version": "1.5.0",
            "_model_name": "DescriptionStyleModel",
            "_view_count": null,
            "_view_module": "@jupyter-widgets/base",
            "_view_module_version": "1.2.0",
            "_view_name": "StyleView",
            "description_width": ""
          }
        },
        "d8e607be0aae4c2591a145e26c40738e": {
          "model_module": "@jupyter-widgets/controls",
          "model_module_version": "1.5.0",
          "model_name": "DescriptionStyleModel",
          "state": {
            "_model_module": "@jupyter-widgets/controls",
            "_model_module_version": "1.5.0",
            "_model_name": "DescriptionStyleModel",
            "_view_count": null,
            "_view_module": "@jupyter-widgets/base",
            "_view_module_version": "1.2.0",
            "_view_name": "StyleView",
            "description_width": ""
          }
        },
        "d936d7bd21a540a8b1991c96ae35d7f9": {
          "model_module": "@jupyter-widgets/controls",
          "model_module_version": "1.5.0",
          "model_name": "FloatProgressModel",
          "state": {
            "_dom_classes": [],
            "_model_module": "@jupyter-widgets/controls",
            "_model_module_version": "1.5.0",
            "_model_name": "FloatProgressModel",
            "_view_count": null,
            "_view_module": "@jupyter-widgets/controls",
            "_view_module_version": "1.5.0",
            "_view_name": "ProgressView",
            "bar_style": "success",
            "description": "",
            "description_tooltip": null,
            "layout": "IPY_MODEL_56ee1a4c0f414889ad294fd50a7d5cd4",
            "max": 5,
            "min": 0,
            "orientation": "horizontal",
            "style": "IPY_MODEL_d410b55f8d654bc38af7bd1ff84e6657",
            "value": 5
          }
        },
        "db3fd1c070cc48b3b1ce0bcad2361df5": {
          "model_module": "@jupyter-widgets/controls",
          "model_module_version": "1.5.0",
          "model_name": "HTMLModel",
          "state": {
            "_dom_classes": [],
            "_model_module": "@jupyter-widgets/controls",
            "_model_module_version": "1.5.0",
            "_model_name": "HTMLModel",
            "_view_count": null,
            "_view_module": "@jupyter-widgets/controls",
            "_view_module_version": "1.5.0",
            "_view_name": "HTMLView",
            "description": "",
            "description_tooltip": null,
            "layout": "IPY_MODEL_12441f785cd74782afcb3d1481249a44",
            "placeholder": "​",
            "style": "IPY_MODEL_d42c8136b4cb46c1ad12ac6dcde8cda1",
            "value": " 20/20 [02:08&lt;00:00,  6.19s/it]"
          }
        },
        "defc097f55784ec0ac830a225f9b077e": {
          "model_module": "@jupyter-widgets/base",
          "model_module_version": "1.2.0",
          "model_name": "LayoutModel",
          "state": {
            "_model_module": "@jupyter-widgets/base",
            "_model_module_version": "1.2.0",
            "_model_name": "LayoutModel",
            "_view_count": null,
            "_view_module": "@jupyter-widgets/base",
            "_view_module_version": "1.2.0",
            "_view_name": "LayoutView",
            "align_content": null,
            "align_items": null,
            "align_self": null,
            "border": null,
            "bottom": null,
            "display": null,
            "flex": null,
            "flex_flow": null,
            "grid_area": null,
            "grid_auto_columns": null,
            "grid_auto_flow": null,
            "grid_auto_rows": null,
            "grid_column": null,
            "grid_gap": null,
            "grid_row": null,
            "grid_template_areas": null,
            "grid_template_columns": null,
            "grid_template_rows": null,
            "height": null,
            "justify_content": null,
            "justify_items": null,
            "left": null,
            "margin": null,
            "max_height": null,
            "max_width": null,
            "min_height": null,
            "min_width": null,
            "object_fit": null,
            "object_position": null,
            "order": null,
            "overflow": null,
            "overflow_x": null,
            "overflow_y": null,
            "padding": null,
            "right": null,
            "top": null,
            "visibility": null,
            "width": null
          }
        },
        "e51704096b764789892ff5e9784d9f5d": {
          "model_module": "@jupyter-widgets/controls",
          "model_module_version": "1.5.0",
          "model_name": "FloatProgressModel",
          "state": {
            "_dom_classes": [],
            "_model_module": "@jupyter-widgets/controls",
            "_model_module_version": "1.5.0",
            "_model_name": "FloatProgressModel",
            "_view_count": null,
            "_view_module": "@jupyter-widgets/controls",
            "_view_module_version": "1.5.0",
            "_view_name": "ProgressView",
            "bar_style": "success",
            "description": "",
            "description_tooltip": null,
            "layout": "IPY_MODEL_436c3a2ba8804f4999327cc3d3a9a7f2",
            "max": 5,
            "min": 0,
            "orientation": "horizontal",
            "style": "IPY_MODEL_808c3b628dbf4395a5ef3db9845791ef",
            "value": 5
          }
        },
        "ea30c4866d9d42d5bbd96090c6409012": {
          "model_module": "@jupyter-widgets/base",
          "model_module_version": "1.2.0",
          "model_name": "LayoutModel",
          "state": {
            "_model_module": "@jupyter-widgets/base",
            "_model_module_version": "1.2.0",
            "_model_name": "LayoutModel",
            "_view_count": null,
            "_view_module": "@jupyter-widgets/base",
            "_view_module_version": "1.2.0",
            "_view_name": "LayoutView",
            "align_content": null,
            "align_items": null,
            "align_self": null,
            "border": null,
            "bottom": null,
            "display": null,
            "flex": null,
            "flex_flow": null,
            "grid_area": null,
            "grid_auto_columns": null,
            "grid_auto_flow": null,
            "grid_auto_rows": null,
            "grid_column": null,
            "grid_gap": null,
            "grid_row": null,
            "grid_template_areas": null,
            "grid_template_columns": null,
            "grid_template_rows": null,
            "height": null,
            "justify_content": null,
            "justify_items": null,
            "left": null,
            "margin": null,
            "max_height": null,
            "max_width": null,
            "min_height": null,
            "min_width": null,
            "object_fit": null,
            "object_position": null,
            "order": null,
            "overflow": null,
            "overflow_x": null,
            "overflow_y": null,
            "padding": null,
            "right": null,
            "top": null,
            "visibility": null,
            "width": null
          }
        },
        "eb119cd0254345db8cb50b5417857a83": {
          "model_module": "@jupyter-widgets/base",
          "model_module_version": "1.2.0",
          "model_name": "LayoutModel",
          "state": {
            "_model_module": "@jupyter-widgets/base",
            "_model_module_version": "1.2.0",
            "_model_name": "LayoutModel",
            "_view_count": null,
            "_view_module": "@jupyter-widgets/base",
            "_view_module_version": "1.2.0",
            "_view_name": "LayoutView",
            "align_content": null,
            "align_items": null,
            "align_self": null,
            "border": null,
            "bottom": null,
            "display": null,
            "flex": null,
            "flex_flow": null,
            "grid_area": null,
            "grid_auto_columns": null,
            "grid_auto_flow": null,
            "grid_auto_rows": null,
            "grid_column": null,
            "grid_gap": null,
            "grid_row": null,
            "grid_template_areas": null,
            "grid_template_columns": null,
            "grid_template_rows": null,
            "height": null,
            "justify_content": null,
            "justify_items": null,
            "left": null,
            "margin": null,
            "max_height": null,
            "max_width": null,
            "min_height": null,
            "min_width": null,
            "object_fit": null,
            "object_position": null,
            "order": null,
            "overflow": null,
            "overflow_x": null,
            "overflow_y": null,
            "padding": null,
            "right": null,
            "top": null,
            "visibility": null,
            "width": null
          }
        },
        "ebdbe6bcc61947ccb16b3015e1c019ec": {
          "model_module": "@jupyter-widgets/controls",
          "model_module_version": "1.5.0",
          "model_name": "DescriptionStyleModel",
          "state": {
            "_model_module": "@jupyter-widgets/controls",
            "_model_module_version": "1.5.0",
            "_model_name": "DescriptionStyleModel",
            "_view_count": null,
            "_view_module": "@jupyter-widgets/base",
            "_view_module_version": "1.2.0",
            "_view_name": "StyleView",
            "description_width": ""
          }
        },
        "ecf4d37169db4ac89b361c15b3238d13": {
          "model_module": "@jupyter-widgets/controls",
          "model_module_version": "1.5.0",
          "model_name": "HBoxModel",
          "state": {
            "_dom_classes": [],
            "_model_module": "@jupyter-widgets/controls",
            "_model_module_version": "1.5.0",
            "_model_name": "HBoxModel",
            "_view_count": null,
            "_view_module": "@jupyter-widgets/controls",
            "_view_module_version": "1.5.0",
            "_view_name": "HBoxView",
            "box_style": "",
            "children": [
              "IPY_MODEL_c3f4e182036c4f50bc8f2f13d70b363e",
              "IPY_MODEL_4fb6a08661714559acd3e5186761ef41",
              "IPY_MODEL_c001a266ce9743ee84a5912ad7664b41"
            ],
            "layout": "IPY_MODEL_0bd079819a064721a3530592570a89b2"
          }
        },
        "f09c75269102476eaf5d861b0125f51c": {
          "model_module": "@jupyter-widgets/controls",
          "model_module_version": "1.5.0",
          "model_name": "HBoxModel",
          "state": {
            "_dom_classes": [],
            "_model_module": "@jupyter-widgets/controls",
            "_model_module_version": "1.5.0",
            "_model_name": "HBoxModel",
            "_view_count": null,
            "_view_module": "@jupyter-widgets/controls",
            "_view_module_version": "1.5.0",
            "_view_name": "HBoxView",
            "box_style": "",
            "children": [
              "IPY_MODEL_3e2452359ad54fb9b046421e3821413c",
              "IPY_MODEL_34690fa35ca4454695311040803b4727",
              "IPY_MODEL_db3fd1c070cc48b3b1ce0bcad2361df5"
            ],
            "layout": "IPY_MODEL_5d87a9b22ee0491f847ca5c922e1bb29"
          }
        },
        "f0addd48e05a4e4993b9a42a9e69f414": {
          "model_module": "@jupyter-widgets/controls",
          "model_module_version": "1.5.0",
          "model_name": "DescriptionStyleModel",
          "state": {
            "_model_module": "@jupyter-widgets/controls",
            "_model_module_version": "1.5.0",
            "_model_name": "DescriptionStyleModel",
            "_view_count": null,
            "_view_module": "@jupyter-widgets/base",
            "_view_module_version": "1.2.0",
            "_view_name": "StyleView",
            "description_width": ""
          }
        },
        "f17c1142ccaf4f3b8230c774b908a9f8": {
          "model_module": "@jupyter-widgets/base",
          "model_module_version": "1.2.0",
          "model_name": "LayoutModel",
          "state": {
            "_model_module": "@jupyter-widgets/base",
            "_model_module_version": "1.2.0",
            "_model_name": "LayoutModel",
            "_view_count": null,
            "_view_module": "@jupyter-widgets/base",
            "_view_module_version": "1.2.0",
            "_view_name": "LayoutView",
            "align_content": null,
            "align_items": null,
            "align_self": null,
            "border": null,
            "bottom": null,
            "display": null,
            "flex": null,
            "flex_flow": null,
            "grid_area": null,
            "grid_auto_columns": null,
            "grid_auto_flow": null,
            "grid_auto_rows": null,
            "grid_column": null,
            "grid_gap": null,
            "grid_row": null,
            "grid_template_areas": null,
            "grid_template_columns": null,
            "grid_template_rows": null,
            "height": null,
            "justify_content": null,
            "justify_items": null,
            "left": null,
            "margin": null,
            "max_height": null,
            "max_width": null,
            "min_height": null,
            "min_width": null,
            "object_fit": null,
            "object_position": null,
            "order": null,
            "overflow": null,
            "overflow_x": null,
            "overflow_y": null,
            "padding": null,
            "right": null,
            "top": null,
            "visibility": null,
            "width": null
          }
        },
        "f388a576e41a4755abb59ec62bef27ac": {
          "model_module": "@jupyter-widgets/controls",
          "model_module_version": "1.5.0",
          "model_name": "HTMLModel",
          "state": {
            "_dom_classes": [],
            "_model_module": "@jupyter-widgets/controls",
            "_model_module_version": "1.5.0",
            "_model_name": "HTMLModel",
            "_view_count": null,
            "_view_module": "@jupyter-widgets/controls",
            "_view_module_version": "1.5.0",
            "_view_name": "HTMLView",
            "description": "",
            "description_tooltip": null,
            "layout": "IPY_MODEL_b5015bd80db94302a89c129a63bb0731",
            "placeholder": "​",
            "style": "IPY_MODEL_95776b6bf0b4439a942ff6e168050405",
            "value": " 5/5 [00:30&lt;00:00,  6.17s/it]"
          }
        },
        "f3ea67d8535043d797a363dd0b07fcc2": {
          "model_module": "@jupyter-widgets/controls",
          "model_module_version": "1.5.0",
          "model_name": "HBoxModel",
          "state": {
            "_dom_classes": [],
            "_model_module": "@jupyter-widgets/controls",
            "_model_module_version": "1.5.0",
            "_model_name": "HBoxModel",
            "_view_count": null,
            "_view_module": "@jupyter-widgets/controls",
            "_view_module_version": "1.5.0",
            "_view_name": "HBoxView",
            "box_style": "",
            "children": [
              "IPY_MODEL_282b51a95d95472bb14de620e3613ec7",
              "IPY_MODEL_7f4446d511a14c999761586a0b7fcf4f",
              "IPY_MODEL_70b6a7d993fa4d41a70903be3c0e5b05"
            ],
            "layout": "IPY_MODEL_529bae94cbdf403283d6012796c268b0"
          }
        },
        "f5bf8f1d4e204759b86e84d25fa75674": {
          "model_module": "@jupyter-widgets/base",
          "model_module_version": "1.2.0",
          "model_name": "LayoutModel",
          "state": {
            "_model_module": "@jupyter-widgets/base",
            "_model_module_version": "1.2.0",
            "_model_name": "LayoutModel",
            "_view_count": null,
            "_view_module": "@jupyter-widgets/base",
            "_view_module_version": "1.2.0",
            "_view_name": "LayoutView",
            "align_content": null,
            "align_items": null,
            "align_self": null,
            "border": null,
            "bottom": null,
            "display": null,
            "flex": null,
            "flex_flow": null,
            "grid_area": null,
            "grid_auto_columns": null,
            "grid_auto_flow": null,
            "grid_auto_rows": null,
            "grid_column": null,
            "grid_gap": null,
            "grid_row": null,
            "grid_template_areas": null,
            "grid_template_columns": null,
            "grid_template_rows": null,
            "height": null,
            "justify_content": null,
            "justify_items": null,
            "left": null,
            "margin": null,
            "max_height": null,
            "max_width": null,
            "min_height": null,
            "min_width": null,
            "object_fit": null,
            "object_position": null,
            "order": null,
            "overflow": null,
            "overflow_x": null,
            "overflow_y": null,
            "padding": null,
            "right": null,
            "top": null,
            "visibility": null,
            "width": null
          }
        },
        "f93bb874cc234367bc8bfc7725385bd6": {
          "model_module": "@jupyter-widgets/controls",
          "model_module_version": "1.5.0",
          "model_name": "DescriptionStyleModel",
          "state": {
            "_model_module": "@jupyter-widgets/controls",
            "_model_module_version": "1.5.0",
            "_model_name": "DescriptionStyleModel",
            "_view_count": null,
            "_view_module": "@jupyter-widgets/base",
            "_view_module_version": "1.2.0",
            "_view_name": "StyleView",
            "description_width": ""
          }
        },
        "faba77a3b60948ce94bc3ec96821e019": {
          "model_module": "@jupyter-widgets/controls",
          "model_module_version": "1.5.0",
          "model_name": "FloatProgressModel",
          "state": {
            "_dom_classes": [],
            "_model_module": "@jupyter-widgets/controls",
            "_model_module_version": "1.5.0",
            "_model_name": "FloatProgressModel",
            "_view_count": null,
            "_view_module": "@jupyter-widgets/controls",
            "_view_module_version": "1.5.0",
            "_view_name": "ProgressView",
            "bar_style": "success",
            "description": "",
            "description_tooltip": null,
            "layout": "IPY_MODEL_18b8af82ad2a49119d8a72f6e979da76",
            "max": 5,
            "min": 0,
            "orientation": "horizontal",
            "style": "IPY_MODEL_a4063422d3104fd8ab77628f4f4e6038",
            "value": 5
          }
        },
        "fb7a9c69d8b3481a8dcace49067999ce": {
          "model_module": "@jupyter-widgets/controls",
          "model_module_version": "1.5.0",
          "model_name": "DescriptionStyleModel",
          "state": {
            "_model_module": "@jupyter-widgets/controls",
            "_model_module_version": "1.5.0",
            "_model_name": "DescriptionStyleModel",
            "_view_count": null,
            "_view_module": "@jupyter-widgets/base",
            "_view_module_version": "1.2.0",
            "_view_name": "StyleView",
            "description_width": ""
          }
        },
        "fe9a298f117b43959ed575df99d8735f": {
          "model_module": "@jupyter-widgets/controls",
          "model_module_version": "1.5.0",
          "model_name": "HTMLModel",
          "state": {
            "_dom_classes": [],
            "_model_module": "@jupyter-widgets/controls",
            "_model_module_version": "1.5.0",
            "_model_name": "HTMLModel",
            "_view_count": null,
            "_view_module": "@jupyter-widgets/controls",
            "_view_module_version": "1.5.0",
            "_view_name": "HTMLView",
            "description": "",
            "description_tooltip": null,
            "layout": "IPY_MODEL_11b58a749e3c408588c463d1896aab9b",
            "placeholder": "​",
            "style": "IPY_MODEL_d6fa2d09861d4d769c86c645fba9dfa7",
            "value": "100%"
          }
        }
      }
    }
  },
  "nbformat": 4,
  "nbformat_minor": 0
}